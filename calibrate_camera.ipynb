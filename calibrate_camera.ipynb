{
 "cells": [
  {
   "cell_type": "markdown",
   "metadata": {},
   "source": [
    "# Camera Calibration"
   ]
  },
  {
   "cell_type": "code",
   "execution_count": 1,
   "metadata": {},
   "outputs": [],
   "source": [
    "import cv2 as cv\n",
    "import os\n",
    "import time\n",
    "import matplotlib as mpl\n",
    "import matplotlib.pyplot as plt\n",
    "import matplotlib.gridspec as gridspec\n",
    "import numpy as np\n",
    "import math"
   ]
  },
  {
   "cell_type": "code",
   "execution_count": null,
   "metadata": {},
   "outputs": [],
   "source": []
  },
  {
   "cell_type": "code",
   "execution_count": 2,
   "metadata": {},
   "outputs": [],
   "source": [
    "#Image Inputs\n",
    "images_dir = 'workspace\\module_segmentation\\Sample Set\\Distortion Correction'\n",
    "images_ext = '.JPG'\n",
    "output_dir = 'workspace\\module_segmentation\\Sample Set\\Distortion Corrected'\n",
    "\n",
    "#Function settings\n",
    "debug = True"
   ]
  },
  {
   "cell_type": "code",
   "execution_count": 3,
   "metadata": {},
   "outputs": [],
   "source": [
    "#Load directory\n",
    "images_list = os.listdir(images_dir)\n",
    "images_list = [image_name for image_name in images_list if image_name.endswith(images_ext)]\n",
    "\n",
    "#Define corner detection termination criteria\n",
    "term_criteria = (cv.TERM_CRITERIA_EPS + cv.TERM_CRITERIA_MAX_ITER, 30, 0.001)\n",
    "\n",
    "#Define chessboard internal corner dimensions (full 8x8 chess board has 7x7 internal corners)\n",
    "corner_dim = (7,7)\n",
    "corner_ct = corner_dim[0] * corner_dim[1]\n",
    "\n",
    "#Define where corner points should be in real world\n",
    "remap_pt = np.zeros((corner_ct,3), np.float32)\n",
    "remap_pt[:,:2] = np.mgrid[0:corner_dim[0],0:corner_dim[1]].T.reshape(-1,2)\n",
    "\n",
    "#Iterate through images and compile corners\n",
    "remap_pts = []\n",
    "corner_pts = []\n",
    "it = 0\n",
    "for image_file in images_list:\n",
    "    \n",
    "    #Load image \n",
    "    image_name = os.path.splitext(image_file)[0]\n",
    "    image_path = images_dir + '/' + image_file\n",
    "    image = cv.imread(image_path)\n",
    "    gray = cv.cvtColor(image, cv.COLOR_BGR2GRAY)\n",
    "    \n",
    "    #Initial corner detection\n",
    "    ret, corners = cv.findChessboardCorners(gray, corner_dim, None)\n",
    "    \n",
    "    #Refine corner detection\n",
    "    if ret:\n",
    "        \n",
    "        #Store remap points (constant)\n",
    "        remap_pts.append(remap_pt)\n",
    "        \n",
    "        #Improve corner calculation and store\n",
    "        corners_subpx = cv.cornerSubPix(gray, corners, (11,11), (-1,-1), term_criteria)\n",
    "        corner_pts.append(corners_subpx)\n",
    "        \n",
    "        #Debug display\n",
    "        if debug:\n",
    "            debug_image = cv.drawChessboardCorners(image, corner_dim, corners_subpx, ret)\n",
    "            output_path = os.path.join(output_dir, image_name + '_corners' + images_ext)\n",
    "            cv.imwrite(output_path, cv.cvtColor(debug_image, cv.COLOR_BGR2RGB))\n",
    "        \n",
    "        "
   ]
  },
  {
   "cell_type": "code",
   "execution_count": null,
   "metadata": {},
   "outputs": [],
   "source": []
  },
  {
   "cell_type": "code",
   "execution_count": null,
   "metadata": {},
   "outputs": [],
   "source": []
  }
 ],
 "metadata": {
  "kernelspec": {
   "display_name": "Python 3",
   "language": "python",
   "name": "python3"
  },
  "language_info": {
   "codemirror_mode": {
    "name": "ipython",
    "version": 3
   },
   "file_extension": ".py",
   "mimetype": "text/x-python",
   "name": "python",
   "nbconvert_exporter": "python",
   "pygments_lexer": "ipython3",
   "version": "3.6.7"
  },
  "varInspector": {
   "cols": {
    "lenName": 16,
    "lenType": 16,
    "lenVar": 40
   },
   "kernels_config": {
    "python": {
     "delete_cmd_postfix": "",
     "delete_cmd_prefix": "del ",
     "library": "var_list.py",
     "varRefreshCmd": "print(var_dic_list())"
    },
    "r": {
     "delete_cmd_postfix": ") ",
     "delete_cmd_prefix": "rm(",
     "library": "var_list.r",
     "varRefreshCmd": "cat(var_dic_list()) "
    }
   },
   "types_to_exclude": [
    "module",
    "function",
    "builtin_function_or_method",
    "instance",
    "_Feature"
   ],
   "window_display": false
  }
 },
 "nbformat": 4,
 "nbformat_minor": 2
}
