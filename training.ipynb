{
 "cells": [
  {
   "cell_type": "markdown",
   "metadata": {},
   "source": [
    "# OpenUVF Model Trainer\n",
    "\n",
    "This notebook provides an interface to simplify and unify the training process of further models. The notebook allows the user to specify the directories of their inputs and the desired directories of their outputs then generates t"
   ]
  },
  {
   "cell_type": "code",
   "execution_count": 31,
   "metadata": {},
   "outputs": [],
   "source": [
    "#Import Essential Packages\n",
    "from __future__ import division\n",
    "from __future__ import print_function\n",
    "from __future__ import absolute_import\n",
    "import os\n",
    "import io\n",
    "import random\n",
    "import glob\n",
    "import logging\n",
    "import subprocess\n",
    "import shutil\n",
    "from PIL import Image\n",
    "from collections import namedtuple, OrderedDict\n",
    "\n",
    "#Import Tensorflow Utilities\n",
    "import tensorflow as tf\n",
    "from core import object_detection\n",
    "from core import nets\n",
    "from object_detection.utils import dataset_util\n",
    "from object_detection.utils import label_map_util\n",
    "from object_detection import model_main\n",
    "from object_detection import model_hparams\n",
    "from object_detection import model_lib\n",
    "\n",
    "#Import OpenUVF Utilities\n",
    "from core.utils.create_tfrecord import create_tf_record\n",
    "from core.utils.augment_images import augment_images\n",
    "\n",
    "%matplotlib inline"
   ]
  },
  {
   "cell_type": "markdown",
   "metadata": {},
   "source": [
    "## Input Directories\n",
    "\n",
    "###### NOTE: When specifying absolute paths, the drive must be of the format \"C:\\\\\" or \"C:/\". C:\\, as copied from windows explorer, will throw an error.\n",
    "\n",
    "Parameters:\n",
    "  1. images_dir (str) = path to images used for trainng\n",
    "  2. labels_dir (str) = path to label map\n",
    "  3. annotations_in_dir (str) = path to PASCAL VOC annotation xmls\n",
    "  4. annotations_out_dir (str) = path to output TFRecords\n",
    "  5. "
   ]
  },
  {
   "cell_type": "code",
   "execution_count": 32,
   "metadata": {},
   "outputs": [],
   "source": [
    "#Input Directories - Provide as full path (e.g. C:/)\n",
    "images_dir = 'sets/M1C1/images/augmented'\n",
    "labels_dir = 'core/labels/1_Class_label_map.pbtxt'\n",
    "annotations_in_dir = images_dir\n",
    "annotations_out_dir = 'sets/M1C1/tfrecords'\n",
    "pipeline_config_path = 'core/models/M1C1(FRCNN_RN101_COCO)_v1/pipeline.config'\n",
    "training_dir = 'workspace/M1C1(FRCNN_RN101_COCO)/training'\n",
    "pre_trained_model_dir = 'core/models/M1C1(FRCNN_RN101_COCO)_v1'"
   ]
  },
  {
   "cell_type": "markdown",
   "metadata": {},
   "source": [
    "## Input Settings \n",
    "\n",
    "##### Function Settings\n",
    "  1. output_image_sets\n",
    "  2. augment_image_sets\n",
    "  3. built_TFRecord\n",
    "  4. execute_train\n",
    "  5. execute_eval\n",
    "  6. open_tensorboard\n",
    "  7. image_ext\n",
    "  8. ignore_difficult\n",
    "  9. func_debug\n",
    "  \n",
    "##### Training Settings  \n",
    "  1. train_frac (float) = fraction of images + annotations to use for training. 1-train_frac is the amount used for testing.\n",
    "  2. num_shards (int) = number of output sharded (divided) TFRecords. Increase this as training sets become too large.\n",
    "  3. pipeline_dir (str) = path to pipeline.config file\n",
    "  4. training_dir (str) = path to folder where training files (checkpoints) should be stored\n",
    "  5. num_train_steps (int) = number of training steps (how many steps the trainer goes through before automatically exiting)\n",
    "  6. num_eval_steps (int) = number of evaluation steps\n",
    "  \n",
    "##### Augmentation Settings  "
   ]
  },
  {
   "cell_type": "code",
   "execution_count": 33,
   "metadata": {},
   "outputs": [],
   "source": [
    "#Function Settings\n",
    "output_image_sets = True\n",
    "augment_image_sets = False\n",
    "build_TFRecords = False\n",
    "execute_train = True\n",
    "execute_eval = True\n",
    "open_tensorboard = True\n",
    "update_pipeline = True\n",
    "image_ext = '.PNG'\n",
    "ignore_difficult = False\n",
    "func_debug = True\n",
    "save_train_and_test_images = True\n",
    "\n",
    "#Training Settings\n",
    "train_frac = .8\n",
    "isolate_sets = True\n",
    "num_shards = 1\n",
    "num_train_steps = 200000\n",
    "num_test_steps = 20000\n",
    "\n",
    "#Augmentation Settings\n",
    "augment_rotations = [0, 180,  0,  180]\n",
    "augment_mirrored = [False, False, True, True]\n",
    "augmentations_per_image = 4\n",
    "\n"
   ]
  },
  {
   "cell_type": "markdown",
   "metadata": {},
   "source": [
    "## Input Parsing"
   ]
  },
  {
   "cell_type": "code",
   "execution_count": 34,
   "metadata": {},
   "outputs": [],
   "source": [
    "\n",
    "\n",
    "\n",
    "#Ensuring all input paths are absolute\n",
    "if not os.path.isabs(images_dir):\n",
    "    images_dir = os.path.join(os.getcwd(), images_dir)\n",
    "#if not os.path.isabs(labels_dir):\n",
    " #   labels_dir = os.path.join(os.getcwd(), labels_dir)\n",
    "if not os.path.isabs(annotations_in_dir):\n",
    "    annotations_in_dir = os.path.join(os.getcwd(), annotations_in_dir)\n",
    "#if not os.path.isabs(annotations_out_dir):\n",
    "#    annotations_out_dir = os.path.join(os.getcwd(), annotations_out_dir)\n",
    "if not os.path.isabs(pipeline_config_path):\n",
    "    pipeline_config_path = os.path.join(os.getcwd(), pipeline_config_path)\n",
    "#if not os.path.isabs(training_dir):\n",
    "#    training_dir = os.path.join(os.getcwd(), training_dir)\n",
    "    \n",
    "#Checking if input images and annotations are in the same folder\n",
    "images_and_annotations_together = images_dir == annotations_in_dir\n",
    "\n",
    "#Defining Additional Paths\n",
    "train_output_path = annotations_out_dir + '/train.record'\n",
    "eval_output_path = annotations_out_dir + '/eval.record'\n",
    "fine_tune_checkpoint_path = os.path.join(pre_trained_model_dir, 'model.ckpt')"
   ]
  },
  {
   "cell_type": "markdown",
   "metadata": {},
   "source": [
    "## Image Set Refactoring"
   ]
  },
  {
   "cell_type": "code",
   "execution_count": null,
   "metadata": {},
   "outputs": [],
   "source": []
  },
  {
   "cell_type": "markdown",
   "metadata": {},
   "source": [
    "## Image Augmentation"
   ]
  },
  {
   "cell_type": "code",
   "execution_count": 35,
   "metadata": {},
   "outputs": [],
   "source": [
    "#Image Augmentation\n",
    "if augment_image_sets:\n",
    "\n",
    "    #Call Augmentation Function    \n",
    "    augment_images(images_dir, annotations_in_dir, image_ext, augment_rotations, augment_mirrored, ignore_difficult)\n",
    "\n",
    "    \n",
    "    \n",
    "    #Update images_dir to augmented folder\n",
    "    images_dir = images_dir + '/augmented'\n",
    "    \n",
    "    #TEMPORARY - REMOVE\n",
    "    annotations_in_dir = images_dir \n",
    "    \n",
    "    #Print Feedback to User\n",
    "    logging.info('Images Augmented. Augmented Images saved to: ' + images_dir)\n",
    "    \n"
   ]
  },
  {
   "cell_type": "markdown",
   "metadata": {},
   "source": [
    "# Generate TFRecords for Training and Testing Sets\n",
    "\n",
    "From input images and corresponding xmls, this section produces the TFRecord files required to train and evaluate the model.\n",
    "\n",
    "\n",
    "\n",
    "\n",
    "=================================================================================================================\n",
    "Code derived from create_pet_tf_record.py by The TensorFlow Authors. Available unmodified at: https://github.com/tensorflow/models/blob/master/research/object_detection/dataset_tools/create_pet_tf_record.py\n",
    "\n",
    " Copyright 2017 The TensorFlow Authors. All Rights Reserved.\n",
    "\n",
    " Licensed under the Apache License, Version 2.0 (the \"License\");\n",
    " you may not use this file except in compliance with the License.\n",
    " You may obtain a copy of the License at\n",
    "\n",
    "     http://www.apache.org/licenses/LICENSE-2.0\n",
    "\n",
    " Unless required by applicable law or agreed to in writing, software\n",
    " distributed under the License is distributed on an \"AS IS\" BASIS,\n",
    " WITHOUT WARRANTIES OR CONDITIONS OF ANY KIND, either express or implied.\n",
    " See the License for the specific language governing permissions and\n",
    " limitations under the License.\n",
    " \n",
    "================================================================================================================="
   ]
  },
  {
   "cell_type": "code",
   "execution_count": 36,
   "metadata": {
    "scrolled": true
   },
   "outputs": [],
   "source": [
    "if build_TFRecords:\n",
    "    \n",
    "    #PROBLEM: NEED IT TO OUTPUT FILENAME AS WELL. SHARDING CAUSES DISCREPANCY AND ERROR\n",
    "    \n",
    "    #Divide Image Set into Training and Evaluation Sets\n",
    "    label_map_dict = label_map_util.get_label_map_dict(labels_dir)\n",
    "    examples_list = glob.glob(images_dir + '/*.xml')\n",
    "    examples_list = [os.path.splitext(os.path.split(example)[1])[0] for example in examples_list]\n",
    "    if isolate_sets:\n",
    "\n",
    "        #Check if set is augmented - augmented if first image has -A0 as its terminal block in name\n",
    "        name = os.path.splitext(examples_list[0])[0]\n",
    "        augmented = name.split(\"-\")[-1] == 'A0'\n",
    "\n",
    "        #Iterate through examples_list and identify base names\n",
    "        base_examples_list = []\n",
    "        auglabels = []\n",
    "        for example in examples_list:\n",
    "            #Remove extension\n",
    "            name = os.path.splitext(example)[0]\n",
    "\n",
    "            #Remove augmentation label\n",
    "            name = name.rpartition('-')\n",
    "            auglabel = name[-1]\n",
    "            name = name[0]\n",
    "\n",
    "            #log the example if it is the first of its kind, otherwise ignore\n",
    "            if not name in base_examples_list:\n",
    "                base_examples_list.append(name)\n",
    "\n",
    "            #log auglabel if it is the first of its kind\n",
    "            if not auglabel in auglabels:\n",
    "                auglabels.append(auglabel)\n",
    "\n",
    "        #Randomly allocate base image set to Training and Evaluation Sets\n",
    "        random.seed(42)\n",
    "        random.shuffle(base_examples_list)\n",
    "        num_examples = len(base_examples_list)\n",
    "        num_train = int(train_frac * num_examples)\n",
    "        base_train_examples = base_examples_list[:num_train]\n",
    "        base_eval_examples = base_examples_list[num_train:]\n",
    "\n",
    "        #Iterate through base examples and assign to actual list\n",
    "        train_examples = []\n",
    "        eval_examples = []\n",
    "        for example in base_train_examples:\n",
    "            for auglabel in auglabels:\n",
    "                train_examples.append(example + '-' + auglabel)\n",
    "\n",
    "        for example in base_eval_examples:\n",
    "            for auglabel in auglabels:\n",
    "                eval_examples.append(example + '-' + auglabel)\n",
    "\n",
    "    else:\n",
    "\n",
    "        #Randomly Dividing the input set into training and testing sets\n",
    "        random.seed(42)\n",
    "        random.shuffle(examples_list)\n",
    "        num_examples = len(examples_list)\n",
    "        num_train = int(train_frac * num_examples)\n",
    "        train_examples = examples_list[:num_train]\n",
    "        eval_examples = examples_list[num_train:]\n",
    "        logging.info('%d training and %d testing examples.',\n",
    "                       len(train_examples), len(eval_examples))\n",
    "\n",
    "    #Saving training and testing examples if requested\n",
    "    if save_train_and_test_images:\n",
    "\n",
    "        #Creating Output Directories\n",
    "        train_out_dir = os.path.join(images_dir, 'training')\n",
    "        test_out_dir = os.path.join(images_dir, 'evaluation')\n",
    "        if not os.path.isdir(train_out_dir):\n",
    "            os.mkdir(train_out_dir)\n",
    "        if not os.path.isdir(test_out_dir):\n",
    "            os.mkdir(test_out_dir)\n",
    "\n",
    "        for ex in train_examples:\n",
    "            imname = ex + image_ext\n",
    "            im = Image.open(os.path.join(images_dir, imname))\n",
    "            im.save(os.path.join(train_out_dir, imname))\n",
    "\n",
    "        for ex in eval_examples:\n",
    "            imname = ex + image_ext\n",
    "            im = Image.open(os.path.join(images_dir, imname))\n",
    "            im.save(os.path.join(test_out_dir, imname))\n",
    "\n",
    "\n",
    "    #Passing inputs to function\n",
    "    create_tf_record(\n",
    "        train_output_path,\n",
    "        num_shards,\n",
    "        label_map_dict,\n",
    "        annotations_in_dir,\n",
    "        images_dir,\n",
    "        train_examples,\n",
    "        faces_only=True,\n",
    "        mask_type='png')\n",
    "    create_tf_record(\n",
    "        eval_output_path,\n",
    "        num_shards,\n",
    "        label_map_dict,\n",
    "        annotations_in_dir,\n",
    "        images_dir,\n",
    "        eval_examples,\n",
    "        faces_only=True,\n",
    "        mask_type='png')"
   ]
  },
  {
   "cell_type": "markdown",
   "metadata": {},
   "source": [
    "## Automatically Updating Pipeline config"
   ]
  },
  {
   "cell_type": "code",
   "execution_count": 37,
   "metadata": {},
   "outputs": [
    {
     "name": "stdout",
     "output_type": "stream",
     "text": [
      "model {\n",
      "\n",
      "  faster_rcnn {\n",
      "\n",
      "    num_classes: 1\n",
      "\n",
      "    image_resizer {\n",
      "\n",
      "      keep_aspect_ratio_resizer {\n",
      "\n",
      "        min_dimension: 800\n",
      "\n",
      "        max_dimension: 1700\n",
      "\n",
      "      }\n",
      "\n",
      "    }\n",
      "\n",
      "    feature_extractor {\n",
      "\n",
      "      type: \"faster_rcnn_resnet101\"\n",
      "\n",
      "      first_stage_features_stride: 16\n",
      "\n",
      "    }\n",
      "\n",
      "    first_stage_anchor_generator {\n",
      "\n",
      "      grid_anchor_generator {\n",
      "\n",
      "        height_stride: 16\n",
      "\n",
      "        width_stride: 16\n",
      "\n",
      "        scales: 0.25\n",
      "\n",
      "        scales: 0.5\n",
      "\n",
      "        scales: 1.0\n",
      "\n",
      "        scales: 2.0\n",
      "\n",
      "        aspect_ratios: 0.5\n",
      "\n",
      "        aspect_ratios: 1.0\n",
      "\n",
      "        aspect_ratios: 2.0\n",
      "\n",
      "      }\n",
      "\n",
      "    }\n",
      "\n",
      "    first_stage_box_predictor_conv_hyperparams {\n",
      "\n",
      "      op: CONV\n",
      "\n",
      "      regularizer {\n",
      "\n",
      "        l2_regularizer {\n",
      "\n",
      "          weight: 0.0\n",
      "\n",
      "        }\n",
      "\n",
      "      }\n",
      "\n",
      "      initializer {\n",
      "\n",
      "        truncated_normal_initializer {\n",
      "\n",
      "          stddev: 0.009999999776482582\n",
      "\n",
      "        }\n",
      "\n",
      "      }\n",
      "\n",
      "    }\n",
      "\n",
      "    first_stage_nms_score_threshold: 0.0\n",
      "\n",
      "    first_stage_nms_iou_threshold: 0.699999988079071\n",
      "\n",
      "    first_stage_max_proposals: 300\n",
      "\n",
      "    first_stage_localization_loss_weight: 2.0\n",
      "\n",
      "    first_stage_objectness_loss_weight: 1.0\n",
      "\n",
      "    initial_crop_size: 14\n",
      "\n",
      "    maxpool_kernel_size: 2\n",
      "\n",
      "    maxpool_stride: 2\n",
      "\n",
      "    second_stage_box_predictor {\n",
      "\n",
      "      mask_rcnn_box_predictor {\n",
      "\n",
      "        fc_hyperparams {\n",
      "\n",
      "          op: FC\n",
      "\n",
      "          regularizer {\n",
      "\n",
      "            l2_regularizer {\n",
      "\n",
      "              weight: 0.0\n",
      "\n",
      "            }\n",
      "\n",
      "          }\n",
      "\n",
      "          initializer {\n",
      "\n",
      "            variance_scaling_initializer {\n",
      "\n",
      "              factor: 1.0\n",
      "\n",
      "              uniform: true\n",
      "\n",
      "              mode: FAN_AVG\n",
      "\n",
      "            }\n",
      "\n",
      "          }\n",
      "\n",
      "        }\n",
      "\n",
      "        use_dropout: false\n",
      "\n",
      "        dropout_keep_probability: 1.0\n",
      "\n",
      "      }\n",
      "\n",
      "    }\n",
      "\n",
      "    second_stage_post_processing {\n",
      "\n",
      "      batch_non_max_suppression {\n",
      "\n",
      "        score_threshold: 0.0\n",
      "\n",
      "        iou_threshold: 0.6000000238418579\n",
      "\n",
      "        max_detections_per_class: 100\n",
      "\n",
      "        max_total_detections: 300\n",
      "\n",
      "      }\n",
      "\n",
      "      score_converter: SOFTMAX\n",
      "\n",
      "    }\n",
      "\n",
      "    second_stage_localization_loss_weight: 2.0\n",
      "\n",
      "    second_stage_classification_loss_weight: 1.0\n",
      "\n",
      "  }\n",
      "\n",
      "}\n",
      "\n",
      "train_config {\n",
      "\n",
      "  batch_size: 1\n",
      "\n",
      "  data_augmentation_options {\n",
      "\n",
      "    random_horizontal_flip {\n",
      "\n",
      "    }\n",
      "\n",
      "  }\n",
      "\n",
      "  optimizer {\n",
      "\n",
      "    momentum_optimizer {\n",
      "\n",
      "      learning_rate {\n",
      "\n",
      "        manual_step_learning_rate {\n",
      "\n",
      "          initial_learning_rate: 0.0003000000142492354\n",
      "\n",
      "          schedule {\n",
      "\n",
      "            step: 900000\n",
      "\n",
      "            learning_rate: 2.9999999242136255e-05\n",
      "\n",
      "          }\n",
      "\n",
      "          schedule {\n",
      "\n",
      "            step: 1200000\n",
      "\n",
      "            learning_rate: 3.000000106112566e-06\n",
      "\n",
      "          }\n",
      "\n",
      "        }\n",
      "\n",
      "      }\n",
      "\n",
      "      momentum_optimizer_value: 0.8999999761581421\n",
      "\n",
      "    }\n",
      "\n",
      "    use_moving_average: false\n",
      "\n",
      "  }\n",
      "\n",
      "  gradient_clipping_by_norm: 10.0\n",
      "\n",
      "  fine_tune_checkpoint: \"core/models/M1C1(FRCNN_RN101_COCO)_v1\\model.ckpt\"\n",
      "\n",
      "  from_detection_checkpoint: true\n",
      "\n",
      "}\n",
      "\n",
      "train_input_reader {\n",
      "\n",
      "  label_map_path: \"core/labels/1_Class_label_map.pbtxt\"\n",
      "\n",
      "  tf_record_input_reader {\n",
      "\n",
      "    input_path: \"sets/M1C1/tfrecords/train.record\"\n",
      "\n",
      "  }\n",
      "\n",
      "}\n",
      "\n",
      "eval_config {\n",
      "\n",
      "  num_examples: 3\n",
      "\n",
      "  max_evals: 3\n",
      "\n",
      "  use_moving_averages: false\n",
      "\n",
      "}\n",
      "\n",
      "eval_input_reader {\n",
      "\n",
      "  label_map_path: \"core/labels/1_Class_label_map.pbtxt\"\n",
      "\n",
      "  shuffle: false\n",
      "\n",
      "  num_readers: 1\n",
      "\n",
      "  tf_record_input_reader {\n",
      "\n",
      "    input_path: \"sets/M1C1/tfrecords/eval.record\"\n",
      "\n",
      "  }\n",
      "\n",
      "}\n",
      "\n"
     ]
    }
   ],
   "source": [
    "if update_pipeline:\n",
    "    \n",
    "    #Define additional (optional) inputs\n",
    "    \n",
    "    \n",
    "    #Load/Create files\n",
    "    pipeline_in = open(pipeline_config_path)\n",
    "    pipeline_out = open(os.path.join(training_dir, 'pipeline.config'), 'wt')\n",
    "    pipeline_out_backup = open(os.path.join(training_dir, 'pipeline_backup.config'), 'wt')\n",
    "\n",
    "    #Iterate line by line and update paths\n",
    "    train_current = False\n",
    "    eval_current = False\n",
    "    for line in pipeline_in:\n",
    "        \n",
    "        #Check for header keywords\n",
    "        if 'train_input_reader' in line:\n",
    "            train_current = True\n",
    "            eval_current = False\n",
    "        elif 'eval_input_reader' in line:\n",
    "            eval_current = True\n",
    "            train_current = False\n",
    "        \n",
    "        #Check for line labels that need replacement\n",
    "        if 'label_map_path' in line:\n",
    "            elements = line.rpartition(':')\n",
    "            line = elements[0] + ': \"' + labels_dir + '\"\\n'\n",
    "        elif 'input_path' in line and train_current:\n",
    "            elements = line.rpartition(':')\n",
    "            line = elements[0] + ': \"' + train_output_path + '\"\\n'\n",
    "        elif 'input_path' in line and eval_current:\n",
    "            elements = line.rpartition(':')\n",
    "            line = elements[0] + ': \"' + eval_output_path + '\"\\n'\n",
    "        elif 'fine_tune_checkpoint' in line:\n",
    "            elements = line.rpartition(':')\n",
    "            line = elements[0] + ': \"' + fine_tune_checkpoint_path + '\"\\n'\n",
    "            \n",
    "        #Writing lines to files    \n",
    "        pipeline_out.write(line)\n",
    "        pipeline_out_backup.write(line)\n",
    "        print(line)\n",
    "\n",
    "        \n",
    "    #Close files\n",
    "    pipeline_in.close()\n",
    "    pipeline_out.close()\n",
    "    pipeline_out_backup.close()\n",
    "    \n",
    "    #Define new pipeline path - move to training folder so it is local to specific instance\n",
    "    pipeline_config_path = os.path.join(training_dir, 'pipeline.config')\n",
    "    "
   ]
  },
  {
   "cell_type": "markdown",
   "metadata": {},
   "source": [
    "## Run Train + Evaluation\n",
    "\n",
    "Code derived from model_main.py by The TensorFlow Authors"
   ]
  },
  {
   "cell_type": "code",
   "execution_count": 40,
   "metadata": {},
   "outputs": [
    {
     "name": "stdout",
     "output_type": "stream",
     "text": [
      "WARNING:tensorflow:Forced number of epochs for all eval validations to be 1.\n"
     ]
    },
    {
     "name": "stderr",
     "output_type": "stream",
     "text": [
      "W1204 18:42:50.592568 11724 tf_logging.py:125] Forced number of epochs for all eval validations to be 1.\n"
     ]
    },
    {
     "name": "stdout",
     "output_type": "stream",
     "text": [
      "INFO:tensorflow:Maybe overwriting train_steps: 200000\n"
     ]
    },
    {
     "name": "stderr",
     "output_type": "stream",
     "text": [
      "I1204 18:42:50.593547 11724 tf_logging.py:115] Maybe overwriting train_steps: 200000\n"
     ]
    },
    {
     "name": "stdout",
     "output_type": "stream",
     "text": [
      "INFO:tensorflow:Maybe overwriting sample_1_of_n_eval_examples: 1\n"
     ]
    },
    {
     "name": "stderr",
     "output_type": "stream",
     "text": [
      "I1204 18:42:50.594550 11724 tf_logging.py:115] Maybe overwriting sample_1_of_n_eval_examples: 1\n"
     ]
    },
    {
     "name": "stdout",
     "output_type": "stream",
     "text": [
      "INFO:tensorflow:Maybe overwriting eval_num_epochs: 1\n"
     ]
    },
    {
     "name": "stderr",
     "output_type": "stream",
     "text": [
      "I1204 18:42:50.594550 11724 tf_logging.py:115] Maybe overwriting eval_num_epochs: 1\n"
     ]
    },
    {
     "name": "stdout",
     "output_type": "stream",
     "text": [
      "INFO:tensorflow:Maybe overwriting load_pretrained: True\n"
     ]
    },
    {
     "name": "stderr",
     "output_type": "stream",
     "text": [
      "I1204 18:42:50.595553 11724 tf_logging.py:115] Maybe overwriting load_pretrained: True\n"
     ]
    },
    {
     "name": "stdout",
     "output_type": "stream",
     "text": [
      "INFO:tensorflow:Ignoring config override key: load_pretrained\n"
     ]
    },
    {
     "name": "stderr",
     "output_type": "stream",
     "text": [
      "I1204 18:42:50.596555 11724 tf_logging.py:115] Ignoring config override key: load_pretrained\n"
     ]
    },
    {
     "name": "stdout",
     "output_type": "stream",
     "text": [
      "WARNING:tensorflow:Expected number of evaluation epochs is 1, but instead encountered `eval_on_train_input_config.num_epochs` = 0. Overwriting `num_epochs` to 1.\n"
     ]
    },
    {
     "name": "stderr",
     "output_type": "stream",
     "text": [
      "W1204 18:42:50.597558 11724 tf_logging.py:125] Expected number of evaluation epochs is 1, but instead encountered `eval_on_train_input_config.num_epochs` = 0. Overwriting `num_epochs` to 1.\n"
     ]
    },
    {
     "name": "stdout",
     "output_type": "stream",
     "text": [
      "INFO:tensorflow:create_estimator_and_inputs: use_tpu False, export_to_tpu False\n"
     ]
    },
    {
     "name": "stderr",
     "output_type": "stream",
     "text": [
      "I1204 18:42:50.597558 11724 tf_logging.py:115] create_estimator_and_inputs: use_tpu False, export_to_tpu False\n"
     ]
    },
    {
     "name": "stdout",
     "output_type": "stream",
     "text": [
      "INFO:tensorflow:Using config: {'_model_dir': 'workspace/M1C1(FRCNN_RN101_COCO)/training', '_tf_random_seed': None, '_save_summary_steps': 100, '_save_checkpoints_steps': None, '_save_checkpoints_secs': 600, '_session_config': allow_soft_placement: true\n",
      "graph_options {\n",
      "  rewrite_options {\n",
      "    meta_optimizer_iterations: ONE\n",
      "  }\n",
      "}\n",
      ", '_keep_checkpoint_max': 5, '_keep_checkpoint_every_n_hours': 10000, '_log_step_count_steps': 100, '_train_distribute': None, '_device_fn': None, '_protocol': None, '_eval_distribute': None, '_experimental_distribute': None, '_service': None, '_cluster_spec': <tensorflow.python.training.server_lib.ClusterSpec object at 0x0000021586C9E470>, '_task_type': 'worker', '_task_id': 0, '_global_id_in_cluster': 0, '_master': '', '_evaluation_master': '', '_is_chief': True, '_num_ps_replicas': 0, '_num_worker_replicas': 1}\n"
     ]
    },
    {
     "name": "stderr",
     "output_type": "stream",
     "text": [
      "I1204 18:42:50.598562 11724 tf_logging.py:115] Using config: {'_model_dir': 'workspace/M1C1(FRCNN_RN101_COCO)/training', '_tf_random_seed': None, '_save_summary_steps': 100, '_save_checkpoints_steps': None, '_save_checkpoints_secs': 600, '_session_config': allow_soft_placement: true\n",
      "graph_options {\n",
      "  rewrite_options {\n",
      "    meta_optimizer_iterations: ONE\n",
      "  }\n",
      "}\n",
      ", '_keep_checkpoint_max': 5, '_keep_checkpoint_every_n_hours': 10000, '_log_step_count_steps': 100, '_train_distribute': None, '_device_fn': None, '_protocol': None, '_eval_distribute': None, '_experimental_distribute': None, '_service': None, '_cluster_spec': <tensorflow.python.training.server_lib.ClusterSpec object at 0x0000021586C9E470>, '_task_type': 'worker', '_task_id': 0, '_global_id_in_cluster': 0, '_master': '', '_evaluation_master': '', '_is_chief': True, '_num_ps_replicas': 0, '_num_worker_replicas': 1}\n"
     ]
    },
    {
     "name": "stdout",
     "output_type": "stream",
     "text": [
      "WARNING:tensorflow:Estimator's model_fn (<function create_model_fn.<locals>.model_fn at 0x000002157077A730>) includes params argument, but params are not passed to Estimator.\n"
     ]
    },
    {
     "name": "stderr",
     "output_type": "stream",
     "text": [
      "W1204 18:42:50.599564 11724 tf_logging.py:125] Estimator's model_fn (<function create_model_fn.<locals>.model_fn at 0x000002157077A730>) includes params argument, but params are not passed to Estimator.\n"
     ]
    },
    {
     "name": "stdout",
     "output_type": "stream",
     "text": [
      "INFO:tensorflow:Not using Distribute Coordinator.\n"
     ]
    },
    {
     "name": "stderr",
     "output_type": "stream",
     "text": [
      "I1204 18:42:50.600566 11724 tf_logging.py:115] Not using Distribute Coordinator.\n"
     ]
    },
    {
     "name": "stdout",
     "output_type": "stream",
     "text": [
      "INFO:tensorflow:Running training and evaluation locally (non-distributed).\n"
     ]
    },
    {
     "name": "stderr",
     "output_type": "stream",
     "text": [
      "I1204 18:42:50.601596 11724 tf_logging.py:115] Running training and evaluation locally (non-distributed).\n"
     ]
    },
    {
     "name": "stdout",
     "output_type": "stream",
     "text": [
      "INFO:tensorflow:Start train and evaluate loop. The evaluate will happen after every checkpoint. Checkpoint frequency is determined based on RunConfig arguments: save_checkpoints_steps None or save_checkpoints_secs 600.\n"
     ]
    },
    {
     "name": "stderr",
     "output_type": "stream",
     "text": [
      "I1204 18:42:50.602571 11724 tf_logging.py:115] Start train and evaluate loop. The evaluate will happen after every checkpoint. Checkpoint frequency is determined based on RunConfig arguments: save_checkpoints_steps None or save_checkpoints_secs 600.\n"
     ]
    },
    {
     "name": "stdout",
     "output_type": "stream",
     "text": [
      "WARNING:tensorflow:num_readers has been reduced to 1 to match input file shards.\n"
     ]
    },
    {
     "name": "stderr",
     "output_type": "stream",
     "text": [
      "W1204 18:42:50.637684 11724 tf_logging.py:125] num_readers has been reduced to 1 to match input file shards.\n"
     ]
    },
    {
     "name": "stdout",
     "output_type": "stream",
     "text": [
      "INFO:tensorflow:Calling model_fn.\n"
     ]
    },
    {
     "name": "stderr",
     "output_type": "stream",
     "text": [
      "I1204 18:42:51.057810 11724 tf_logging.py:115] Calling model_fn.\n"
     ]
    },
    {
     "name": "stdout",
     "output_type": "stream",
     "text": [
      "INFO:tensorflow:Scale of 0 disables regularizer.\n"
     ]
    },
    {
     "name": "stderr",
     "output_type": "stream",
     "text": [
      "I1204 18:42:51.080843 11724 tf_logging.py:115] Scale of 0 disables regularizer.\n"
     ]
    },
    {
     "name": "stdout",
     "output_type": "stream",
     "text": [
      "INFO:tensorflow:Scale of 0 disables regularizer.\n"
     ]
    },
    {
     "name": "stderr",
     "output_type": "stream",
     "text": [
      "I1204 18:42:54.303464 11724 tf_logging.py:115] Scale of 0 disables regularizer.\n"
     ]
    },
    {
     "name": "stdout",
     "output_type": "stream",
     "text": [
      "INFO:tensorflow:Scale of 0 disables regularizer.\n"
     ]
    },
    {
     "name": "stderr",
     "output_type": "stream",
     "text": [
      "I1204 18:42:54.318504 11724 tf_logging.py:115] Scale of 0 disables regularizer.\n"
     ]
    },
    {
     "name": "stdout",
     "output_type": "stream",
     "text": [
      "INFO:tensorflow:depth of additional conv before box predictor: 0\n"
     ]
    },
    {
     "name": "stderr",
     "output_type": "stream",
     "text": [
      "I1204 18:42:54.319507 11724 tf_logging.py:115] depth of additional conv before box predictor: 0\n"
     ]
    },
    {
     "name": "stdout",
     "output_type": "stream",
     "text": [
      "INFO:tensorflow:Scale of 0 disables regularizer.\n"
     ]
    },
    {
     "name": "stderr",
     "output_type": "stream",
     "text": [
      "I1204 18:42:54.892054 11724 tf_logging.py:115] Scale of 0 disables regularizer.\n"
     ]
    },
    {
     "name": "stdout",
     "output_type": "stream",
     "text": [
      "INFO:tensorflow:Scale of 0 disables regularizer.\n"
     ]
    },
    {
     "name": "stderr",
     "output_type": "stream",
     "text": [
      "I1204 18:42:55.092562 11724 tf_logging.py:115] Scale of 0 disables regularizer.\n"
     ]
    },
    {
     "name": "stdout",
     "output_type": "stream",
     "text": [
      "INFO:tensorflow:Scale of 0 disables regularizer.\n"
     ]
    },
    {
     "name": "stderr",
     "output_type": "stream",
     "text": [
      "I1204 18:42:55.109607 11724 tf_logging.py:115] Scale of 0 disables regularizer.\n"
     ]
    },
    {
     "name": "stdout",
     "output_type": "stream",
     "text": [
      "INFO:tensorflow:Done calling model_fn.\n"
     ]
    },
    {
     "name": "stderr",
     "output_type": "stream",
     "text": [
      "I1204 18:43:00.221034 11724 tf_logging.py:115] Done calling model_fn.\n"
     ]
    },
    {
     "name": "stdout",
     "output_type": "stream",
     "text": [
      "INFO:tensorflow:Create CheckpointSaverHook.\n"
     ]
    },
    {
     "name": "stderr",
     "output_type": "stream",
     "text": [
      "I1204 18:43:00.224043 11724 tf_logging.py:115] Create CheckpointSaverHook.\n"
     ]
    },
    {
     "name": "stdout",
     "output_type": "stream",
     "text": [
      "INFO:tensorflow:Graph was finalized.\n"
     ]
    },
    {
     "name": "stderr",
     "output_type": "stream",
     "text": [
      "I1204 18:43:01.520513 11724 tf_logging.py:115] Graph was finalized.\n"
     ]
    },
    {
     "name": "stdout",
     "output_type": "stream",
     "text": [
      "INFO:tensorflow:Restoring parameters from workspace/M1C1(FRCNN_RN101_COCO)/training\\model.ckpt-6678\n"
     ]
    },
    {
     "name": "stderr",
     "output_type": "stream",
     "text": [
      "I1204 18:43:01.540557 11724 tf_logging.py:115] Restoring parameters from workspace/M1C1(FRCNN_RN101_COCO)/training\\model.ckpt-6678\n"
     ]
    },
    {
     "name": "stdout",
     "output_type": "stream",
     "text": [
      "INFO:tensorflow:Running local_init_op.\n"
     ]
    },
    {
     "name": "stderr",
     "output_type": "stream",
     "text": [
      "I1204 18:43:02.987223 11724 tf_logging.py:115] Running local_init_op.\n"
     ]
    },
    {
     "name": "stdout",
     "output_type": "stream",
     "text": [
      "INFO:tensorflow:Done running local_init_op.\n"
     ]
    },
    {
     "name": "stderr",
     "output_type": "stream",
     "text": [
      "I1204 18:43:03.105526 11724 tf_logging.py:115] Done running local_init_op.\n"
     ]
    },
    {
     "name": "stdout",
     "output_type": "stream",
     "text": [
      "INFO:tensorflow:Saving checkpoints for 6678 into workspace/M1C1(FRCNN_RN101_COCO)/training\\model.ckpt.\n"
     ]
    },
    {
     "name": "stderr",
     "output_type": "stream",
     "text": [
      "I1204 18:43:08.914032 11724 tf_logging.py:115] Saving checkpoints for 6678 into workspace/M1C1(FRCNN_RN101_COCO)/training\\model.ckpt.\n"
     ]
    },
    {
     "name": "stdout",
     "output_type": "stream",
     "text": [
      "INFO:tensorflow:loss = 0.5010313, step = 6678\n"
     ]
    },
    {
     "name": "stderr",
     "output_type": "stream",
     "text": [
      "I1204 18:43:19.470662 11724 tf_logging.py:115] loss = 0.5010313, step = 6678\n"
     ]
    },
    {
     "name": "stdout",
     "output_type": "stream",
     "text": [
      "INFO:tensorflow:global_step/sec: 2.70259\n"
     ]
    },
    {
     "name": "stderr",
     "output_type": "stream",
     "text": [
      "I1204 18:43:56.472137 11724 tf_logging.py:115] global_step/sec: 2.70259\n"
     ]
    },
    {
     "name": "stdout",
     "output_type": "stream",
     "text": [
      "INFO:tensorflow:loss = 0.7797246, step = 6778 (37.004 sec)\n"
     ]
    },
    {
     "name": "stderr",
     "output_type": "stream",
     "text": [
      "I1204 18:43:56.474366 11724 tf_logging.py:115] loss = 0.7797246, step = 6778 (37.004 sec)\n"
     ]
    },
    {
     "name": "stdout",
     "output_type": "stream",
     "text": [
      "INFO:tensorflow:global_step/sec: 2.87735\n"
     ]
    },
    {
     "name": "stderr",
     "output_type": "stream",
     "text": [
      "I1204 18:44:31.226366 11724 tf_logging.py:115] global_step/sec: 2.87735\n"
     ]
    },
    {
     "name": "stdout",
     "output_type": "stream",
     "text": [
      "INFO:tensorflow:loss = 0.7974687, step = 6878 (34.754 sec)\n"
     ]
    },
    {
     "name": "stderr",
     "output_type": "stream",
     "text": [
      "I1204 18:44:31.228372 11724 tf_logging.py:115] loss = 0.7974687, step = 6878 (34.754 sec)\n"
     ]
    },
    {
     "name": "stdout",
     "output_type": "stream",
     "text": [
      "INFO:tensorflow:global_step/sec: 2.86508\n"
     ]
    },
    {
     "name": "stderr",
     "output_type": "stream",
     "text": [
      "I1204 18:45:06.129350 11724 tf_logging.py:115] global_step/sec: 2.86508\n"
     ]
    },
    {
     "name": "stdout",
     "output_type": "stream",
     "text": [
      "INFO:tensorflow:loss = 0.543576, step = 6978 (34.902 sec)\n"
     ]
    },
    {
     "name": "stderr",
     "output_type": "stream",
     "text": [
      "I1204 18:45:06.130353 11724 tf_logging.py:115] loss = 0.543576, step = 6978 (34.902 sec)\n"
     ]
    },
    {
     "name": "stdout",
     "output_type": "stream",
     "text": [
      "INFO:tensorflow:global_step/sec: 2.86691\n"
     ]
    },
    {
     "name": "stderr",
     "output_type": "stream",
     "text": [
      "I1204 18:45:41.010123 11724 tf_logging.py:115] global_step/sec: 2.86691\n"
     ]
    },
    {
     "name": "stdout",
     "output_type": "stream",
     "text": [
      "INFO:tensorflow:loss = 0.7731468, step = 7078 (34.884 sec)\n"
     ]
    },
    {
     "name": "stderr",
     "output_type": "stream",
     "text": [
      "I1204 18:45:41.014092 11724 tf_logging.py:115] loss = 0.7731468, step = 7078 (34.884 sec)\n"
     ]
    },
    {
     "name": "stdout",
     "output_type": "stream",
     "text": [
      "INFO:tensorflow:global_step/sec: 2.86741\n"
     ]
    },
    {
     "name": "stderr",
     "output_type": "stream",
     "text": [
      "I1204 18:46:15.884815 11724 tf_logging.py:115] global_step/sec: 2.86741\n"
     ]
    },
    {
     "name": "stdout",
     "output_type": "stream",
     "text": [
      "INFO:tensorflow:loss = 0.120427534, step = 7178 (34.873 sec)\n"
     ]
    },
    {
     "name": "stderr",
     "output_type": "stream",
     "text": [
      "I1204 18:46:15.886820 11724 tf_logging.py:115] loss = 0.120427534, step = 7178 (34.873 sec)\n"
     ]
    },
    {
     "name": "stdout",
     "output_type": "stream",
     "text": [
      "INFO:tensorflow:global_step/sec: 2.86567\n"
     ]
    },
    {
     "name": "stderr",
     "output_type": "stream",
     "text": [
      "I1204 18:46:50.780610 11724 tf_logging.py:115] global_step/sec: 2.86567\n"
     ]
    },
    {
     "name": "stdout",
     "output_type": "stream",
     "text": [
      "INFO:tensorflow:loss = 1.4267962, step = 7278 (34.895 sec)\n"
     ]
    },
    {
     "name": "stderr",
     "output_type": "stream",
     "text": [
      "I1204 18:46:50.781606 11724 tf_logging.py:115] loss = 1.4267962, step = 7278 (34.895 sec)\n"
     ]
    },
    {
     "name": "stdout",
     "output_type": "stream",
     "text": [
      "INFO:tensorflow:global_step/sec: 2.88189\n"
     ]
    },
    {
     "name": "stderr",
     "output_type": "stream",
     "text": [
      "I1204 18:47:25.480118 11724 tf_logging.py:115] global_step/sec: 2.88189\n"
     ]
    },
    {
     "name": "stdout",
     "output_type": "stream",
     "text": [
      "INFO:tensorflow:loss = 0.18063816, step = 7378 (34.700 sec)\n"
     ]
    },
    {
     "name": "stderr",
     "output_type": "stream",
     "text": [
      "I1204 18:47:25.481121 11724 tf_logging.py:115] loss = 0.18063816, step = 7378 (34.700 sec)\n"
     ]
    },
    {
     "name": "stdout",
     "output_type": "stream",
     "text": [
      "INFO:tensorflow:global_step/sec: 2.87949\n"
     ]
    },
    {
     "name": "stderr",
     "output_type": "stream",
     "text": [
      "I1204 18:48:00.208484 11724 tf_logging.py:115] global_step/sec: 2.87949\n"
     ]
    },
    {
     "name": "stdout",
     "output_type": "stream",
     "text": [
      "INFO:tensorflow:loss = 0.5162962, step = 7478 (34.731 sec)\n"
     ]
    },
    {
     "name": "stderr",
     "output_type": "stream",
     "text": [
      "I1204 18:48:00.212472 11724 tf_logging.py:115] loss = 0.5162962, step = 7478 (34.731 sec)\n"
     ]
    },
    {
     "name": "stdout",
     "output_type": "stream",
     "text": [
      "INFO:tensorflow:global_step/sec: 2.86083\n"
     ]
    },
    {
     "name": "stderr",
     "output_type": "stream",
     "text": [
      "I1204 18:48:35.163408 11724 tf_logging.py:115] global_step/sec: 2.86083\n"
     ]
    },
    {
     "name": "stdout",
     "output_type": "stream",
     "text": [
      "INFO:tensorflow:loss = 1.5814434, step = 7578 (34.952 sec)\n"
     ]
    },
    {
     "name": "stderr",
     "output_type": "stream",
     "text": [
      "I1204 18:48:35.164410 11724 tf_logging.py:115] loss = 1.5814434, step = 7578 (34.952 sec)\n"
     ]
    },
    {
     "name": "stdout",
     "output_type": "stream",
     "text": [
      "INFO:tensorflow:global_step/sec: 2.86757\n"
     ]
    },
    {
     "name": "stderr",
     "output_type": "stream",
     "text": [
      "I1204 18:49:10.036164 11724 tf_logging.py:115] global_step/sec: 2.86757\n"
     ]
    },
    {
     "name": "stdout",
     "output_type": "stream",
     "text": [
      "INFO:tensorflow:loss = 0.16836026, step = 7678 (34.874 sec)\n"
     ]
    },
    {
     "name": "stderr",
     "output_type": "stream",
     "text": [
      "I1204 18:49:10.038154 11724 tf_logging.py:115] loss = 0.16836026, step = 7678 (34.874 sec)\n"
     ]
    },
    {
     "name": "stdout",
     "output_type": "stream",
     "text": [
      "INFO:tensorflow:global_step/sec: 2.86322\n"
     ]
    },
    {
     "name": "stderr",
     "output_type": "stream",
     "text": [
      "I1204 18:49:44.962855 11724 tf_logging.py:115] global_step/sec: 2.86322\n"
     ]
    },
    {
     "name": "stdout",
     "output_type": "stream",
     "text": [
      "INFO:tensorflow:loss = 1.3590161, step = 7778 (34.926 sec)\n"
     ]
    },
    {
     "name": "stderr",
     "output_type": "stream",
     "text": [
      "I1204 18:49:44.963855 11724 tf_logging.py:115] loss = 1.3590161, step = 7778 (34.926 sec)\n"
     ]
    },
    {
     "name": "stdout",
     "output_type": "stream",
     "text": [
      "INFO:tensorflow:global_step/sec: 2.86603\n"
     ]
    },
    {
     "name": "stderr",
     "output_type": "stream",
     "text": [
      "I1204 18:50:19.853393 11724 tf_logging.py:115] global_step/sec: 2.86603\n"
     ]
    },
    {
     "name": "stdout",
     "output_type": "stream",
     "text": [
      "INFO:tensorflow:loss = 0.80476785, step = 7878 (34.893 sec)\n"
     ]
    },
    {
     "name": "stderr",
     "output_type": "stream",
     "text": [
      "I1204 18:50:19.856401 11724 tf_logging.py:115] loss = 0.80476785, step = 7878 (34.893 sec)\n"
     ]
    },
    {
     "name": "stdout",
     "output_type": "stream",
     "text": [
      "INFO:tensorflow:global_step/sec: 2.86572\n"
     ]
    },
    {
     "name": "stderr",
     "output_type": "stream",
     "text": [
      "I1204 18:50:54.748676 11724 tf_logging.py:115] global_step/sec: 2.86572\n"
     ]
    },
    {
     "name": "stdout",
     "output_type": "stream",
     "text": [
      "INFO:tensorflow:loss = 0.5794361, step = 7978 (34.893 sec)\n"
     ]
    },
    {
     "name": "stderr",
     "output_type": "stream",
     "text": [
      "I1204 18:50:54.749713 11724 tf_logging.py:115] loss = 0.5794361, step = 7978 (34.893 sec)\n"
     ]
    },
    {
     "name": "stdout",
     "output_type": "stream",
     "text": [
      "INFO:tensorflow:global_step/sec: 2.86394\n"
     ]
    },
    {
     "name": "stderr",
     "output_type": "stream",
     "text": [
      "I1204 18:51:29.665627 11724 tf_logging.py:115] global_step/sec: 2.86394\n"
     ]
    },
    {
     "name": "stdout",
     "output_type": "stream",
     "text": [
      "INFO:tensorflow:loss = 1.2651328, step = 8078 (34.917 sec)\n"
     ]
    },
    {
     "name": "stderr",
     "output_type": "stream",
     "text": [
      "I1204 18:51:29.666630 11724 tf_logging.py:115] loss = 1.2651328, step = 8078 (34.917 sec)\n"
     ]
    },
    {
     "name": "stdout",
     "output_type": "stream",
     "text": [
      "INFO:tensorflow:global_step/sec: 2.86881\n"
     ]
    },
    {
     "name": "stderr",
     "output_type": "stream",
     "text": [
      "I1204 18:52:04.523262 11724 tf_logging.py:115] global_step/sec: 2.86881\n"
     ]
    },
    {
     "name": "stdout",
     "output_type": "stream",
     "text": [
      "INFO:tensorflow:loss = 0.25018224, step = 8178 (34.859 sec)\n"
     ]
    },
    {
     "name": "stderr",
     "output_type": "stream",
     "text": [
      "I1204 18:52:04.525271 11724 tf_logging.py:115] loss = 0.25018224, step = 8178 (34.859 sec)\n"
     ]
    },
    {
     "name": "stdout",
     "output_type": "stream",
     "text": [
      "INFO:tensorflow:global_step/sec: 2.86556\n"
     ]
    },
    {
     "name": "stderr",
     "output_type": "stream",
     "text": [
      "I1204 18:52:39.420424 11724 tf_logging.py:115] global_step/sec: 2.86556\n"
     ]
    },
    {
     "name": "stdout",
     "output_type": "stream",
     "text": [
      "INFO:tensorflow:loss = 0.26580036, step = 8278 (34.898 sec)\n"
     ]
    },
    {
     "name": "stderr",
     "output_type": "stream",
     "text": [
      "I1204 18:52:39.423439 11724 tf_logging.py:115] loss = 0.26580036, step = 8278 (34.898 sec)\n"
     ]
    },
    {
     "name": "stdout",
     "output_type": "stream",
     "text": [
      "INFO:tensorflow:Saving checkpoints for 8373 into workspace/M1C1(FRCNN_RN101_COCO)/training\\model.ckpt.\n"
     ]
    },
    {
     "name": "stderr",
     "output_type": "stream",
     "text": [
      "I1204 18:53:12.192202 11724 tf_logging.py:115] Saving checkpoints for 8373 into workspace/M1C1(FRCNN_RN101_COCO)/training\\model.ckpt.\n"
     ]
    },
    {
     "name": "stdout",
     "output_type": "stream",
     "text": [
      "INFO:tensorflow:Calling model_fn.\n"
     ]
    },
    {
     "name": "stderr",
     "output_type": "stream",
     "text": [
      "I1204 18:53:15.698490 11724 tf_logging.py:115] Calling model_fn.\n"
     ]
    },
    {
     "name": "stdout",
     "output_type": "stream",
     "text": [
      "INFO:tensorflow:Scale of 0 disables regularizer.\n"
     ]
    },
    {
     "name": "stderr",
     "output_type": "stream",
     "text": [
      "I1204 18:53:15.724552 11724 tf_logging.py:115] Scale of 0 disables regularizer.\n"
     ]
    },
    {
     "name": "stdout",
     "output_type": "stream",
     "text": [
      "INFO:tensorflow:Scale of 0 disables regularizer.\n"
     ]
    },
    {
     "name": "stderr",
     "output_type": "stream",
     "text": [
      "I1204 18:53:17.887302 11724 tf_logging.py:115] Scale of 0 disables regularizer.\n"
     ]
    },
    {
     "name": "stdout",
     "output_type": "stream",
     "text": [
      "INFO:tensorflow:Scale of 0 disables regularizer.\n"
     ]
    },
    {
     "name": "stderr",
     "output_type": "stream",
     "text": [
      "I1204 18:53:17.901315 11724 tf_logging.py:115] Scale of 0 disables regularizer.\n"
     ]
    },
    {
     "name": "stdout",
     "output_type": "stream",
     "text": [
      "INFO:tensorflow:depth of additional conv before box predictor: 0\n"
     ]
    },
    {
     "name": "stderr",
     "output_type": "stream",
     "text": [
      "I1204 18:53:17.903321 11724 tf_logging.py:115] depth of additional conv before box predictor: 0\n"
     ]
    },
    {
     "name": "stdout",
     "output_type": "stream",
     "text": [
      "INFO:tensorflow:Scale of 0 disables regularizer.\n"
     ]
    },
    {
     "name": "stderr",
     "output_type": "stream",
     "text": [
      "I1204 18:53:18.264306 11724 tf_logging.py:115] Scale of 0 disables regularizer.\n"
     ]
    },
    {
     "name": "stdout",
     "output_type": "stream",
     "text": [
      "INFO:tensorflow:Scale of 0 disables regularizer.\n"
     ]
    },
    {
     "name": "stderr",
     "output_type": "stream",
     "text": [
      "I1204 18:53:18.471857 11724 tf_logging.py:115] Scale of 0 disables regularizer.\n"
     ]
    },
    {
     "name": "stdout",
     "output_type": "stream",
     "text": [
      "INFO:tensorflow:Scale of 0 disables regularizer.\n"
     ]
    },
    {
     "name": "stderr",
     "output_type": "stream",
     "text": [
      "I1204 18:53:18.489881 11724 tf_logging.py:115] Scale of 0 disables regularizer.\n"
     ]
    },
    {
     "name": "stdout",
     "output_type": "stream",
     "text": [
      "INFO:tensorflow:Scale of 0 disables regularizer.\n"
     ]
    },
    {
     "name": "stderr",
     "output_type": "stream",
     "text": [
      "I1204 18:53:18.723533 11724 tf_logging.py:115] Scale of 0 disables regularizer.\n"
     ]
    },
    {
     "name": "stdout",
     "output_type": "stream",
     "text": [
      "INFO:tensorflow:Done calling model_fn.\n"
     ]
    },
    {
     "name": "stderr",
     "output_type": "stream",
     "text": [
      "I1204 18:53:19.460486 11724 tf_logging.py:115] Done calling model_fn.\n"
     ]
    },
    {
     "name": "stdout",
     "output_type": "stream",
     "text": [
      "INFO:tensorflow:Starting evaluation at 2018-12-05-00:53:19\n"
     ]
    },
    {
     "name": "stderr",
     "output_type": "stream",
     "text": [
      "I1204 18:53:19.477532 11724 tf_logging.py:115] Starting evaluation at 2018-12-05-00:53:19\n"
     ]
    },
    {
     "name": "stdout",
     "output_type": "stream",
     "text": [
      "INFO:tensorflow:Graph was finalized.\n"
     ]
    },
    {
     "name": "stderr",
     "output_type": "stream",
     "text": [
      "I1204 18:53:20.333808 11724 tf_logging.py:115] Graph was finalized.\n"
     ]
    },
    {
     "name": "stdout",
     "output_type": "stream",
     "text": [
      "INFO:tensorflow:Restoring parameters from workspace/M1C1(FRCNN_RN101_COCO)/training\\model.ckpt-8373\n"
     ]
    },
    {
     "name": "stderr",
     "output_type": "stream",
     "text": [
      "I1204 18:53:20.354572 11724 tf_logging.py:115] Restoring parameters from workspace/M1C1(FRCNN_RN101_COCO)/training\\model.ckpt-8373\n"
     ]
    },
    {
     "name": "stdout",
     "output_type": "stream",
     "text": [
      "INFO:tensorflow:Running local_init_op.\n"
     ]
    },
    {
     "name": "stderr",
     "output_type": "stream",
     "text": [
      "I1204 18:53:21.160315 11724 tf_logging.py:115] Running local_init_op.\n"
     ]
    },
    {
     "name": "stdout",
     "output_type": "stream",
     "text": [
      "INFO:tensorflow:Done running local_init_op.\n"
     ]
    },
    {
     "name": "stderr",
     "output_type": "stream",
     "text": [
      "I1204 18:53:21.239485 11724 tf_logging.py:115] Done running local_init_op.\n"
     ]
    },
    {
     "name": "stdout",
     "output_type": "stream",
     "text": [
      "creating index...\n",
      "index created!\n",
      "INFO:tensorflow:Loading and preparing annotation results...\n"
     ]
    },
    {
     "name": "stderr",
     "output_type": "stream",
     "text": [
      "I1204 18:54:07.844350  7984 tf_logging.py:115] Loading and preparing annotation results...\n"
     ]
    },
    {
     "ename": "InvalidArgumentError",
     "evalue": "TypeError: can't pickle dict_values objects\nTraceback (most recent call last):\n\n  File \"C:\\Anaconda3\\envs\\tensorflowGPU\\lib\\site-packages\\tensorflow\\python\\ops\\script_ops.py\", line 206, in __call__\n    ret = func(*args)\n\n  File \"C:\\Anaconda3\\envs\\tensorflowGPU\\lib\\site-packages\\object_detection-0.1-py3.6.egg\\object_detection\\metrics\\coco_evaluation.py\", line 358, in first_value_func\n    self._metrics = self.evaluate()\n\n  File \"C:\\Anaconda3\\envs\\tensorflowGPU\\lib\\site-packages\\object_detection-0.1-py3.6.egg\\object_detection\\metrics\\coco_evaluation.py\", line 207, in evaluate\n    self._detection_boxes_list)\n\n  File \"C:\\Anaconda3\\envs\\tensorflowGPU\\lib\\site-packages\\object_detection-0.1-py3.6.egg\\object_detection\\metrics\\coco_tools.py\", line 118, in LoadAnnotations\n    results.dataset['categories'] = copy.deepcopy(self.dataset['categories'])\n\n  File \"C:\\Anaconda3\\envs\\tensorflowGPU\\lib\\copy.py\", line 169, in deepcopy\n    rv = reductor(4)\n\nTypeError: can't pickle dict_values objects\n\n\n\t [[node PyFunc_3 (defined at C:\\Anaconda3\\envs\\tensorflowGPU\\lib\\site-packages\\object_detection-0.1-py3.6.egg\\object_detection\\metrics\\coco_evaluation.py:368)  = PyFunc[Tin=[], Tout=[DT_FLOAT], token=\"pyfunc_39\", _device=\"/job:localhost/replica:0/task:0/device:CPU:0\"]()]]\n\t [[{{node cond_1/Detections_Left_Groundtruth_Right/1/_4273}} = _HostRecv[client_terminated=false, recv_device=\"/job:localhost/replica:0/task:0/device:GPU:0\", send_device=\"/job:localhost/replica:0/task:0/device:CPU:0\", send_device_incarnation=1, tensor_name=\"edge_226_cond_1/Detections_Left_Groundtruth_Right/1\", tensor_type=DT_STRING, _device=\"/job:localhost/replica:0/task:0/device:GPU:0\"]()]]\n\nCaused by op 'PyFunc_3', defined at:\n  File \"C:\\Anaconda3\\envs\\tensorflowGPU\\lib\\runpy.py\", line 193, in _run_module_as_main\n    \"__main__\", mod_spec)\n  File \"C:\\Anaconda3\\envs\\tensorflowGPU\\lib\\runpy.py\", line 85, in _run_code\n    exec(code, run_globals)\n  File \"C:\\Anaconda3\\envs\\tensorflowGPU\\lib\\site-packages\\ipykernel_launcher.py\", line 16, in <module>\n    app.launch_new_instance()\n  File \"C:\\Anaconda3\\envs\\tensorflowGPU\\lib\\site-packages\\traitlets\\config\\application.py\", line 658, in launch_instance\n    app.start()\n  File \"C:\\Anaconda3\\envs\\tensorflowGPU\\lib\\site-packages\\ipykernel\\kernelapp.py\", line 505, in start\n    self.io_loop.start()\n  File \"C:\\Anaconda3\\envs\\tensorflowGPU\\lib\\site-packages\\tornado\\platform\\asyncio.py\", line 132, in start\n    self.asyncio_loop.run_forever()\n  File \"C:\\Anaconda3\\envs\\tensorflowGPU\\lib\\asyncio\\base_events.py\", line 427, in run_forever\n    self._run_once()\n  File \"C:\\Anaconda3\\envs\\tensorflowGPU\\lib\\asyncio\\base_events.py\", line 1440, in _run_once\n    handle._run()\n  File \"C:\\Anaconda3\\envs\\tensorflowGPU\\lib\\asyncio\\events.py\", line 145, in _run\n    self._callback(*self._args)\n  File \"C:\\Anaconda3\\envs\\tensorflowGPU\\lib\\site-packages\\tornado\\ioloop.py\", line 758, in _run_callback\n    ret = callback()\n  File \"C:\\Anaconda3\\envs\\tensorflowGPU\\lib\\site-packages\\tornado\\stack_context.py\", line 300, in null_wrapper\n    return fn(*args, **kwargs)\n  File \"C:\\Anaconda3\\envs\\tensorflowGPU\\lib\\site-packages\\tornado\\gen.py\", line 1233, in inner\n    self.run()\n  File \"C:\\Anaconda3\\envs\\tensorflowGPU\\lib\\site-packages\\tornado\\gen.py\", line 1147, in run\n    yielded = self.gen.send(value)\n  File \"C:\\Anaconda3\\envs\\tensorflowGPU\\lib\\site-packages\\ipykernel\\kernelbase.py\", line 357, in process_one\n    yield gen.maybe_future(dispatch(*args))\n  File \"C:\\Anaconda3\\envs\\tensorflowGPU\\lib\\site-packages\\tornado\\gen.py\", line 326, in wrapper\n    yielded = next(result)\n  File \"C:\\Anaconda3\\envs\\tensorflowGPU\\lib\\site-packages\\ipykernel\\kernelbase.py\", line 267, in dispatch_shell\n    yield gen.maybe_future(handler(stream, idents, msg))\n  File \"C:\\Anaconda3\\envs\\tensorflowGPU\\lib\\site-packages\\tornado\\gen.py\", line 326, in wrapper\n    yielded = next(result)\n  File \"C:\\Anaconda3\\envs\\tensorflowGPU\\lib\\site-packages\\ipykernel\\kernelbase.py\", line 534, in execute_request\n    user_expressions, allow_stdin,\n  File \"C:\\Anaconda3\\envs\\tensorflowGPU\\lib\\site-packages\\tornado\\gen.py\", line 326, in wrapper\n    yielded = next(result)\n  File \"C:\\Anaconda3\\envs\\tensorflowGPU\\lib\\site-packages\\ipykernel\\ipkernel.py\", line 294, in do_execute\n    res = shell.run_cell(code, store_history=store_history, silent=silent)\n  File \"C:\\Anaconda3\\envs\\tensorflowGPU\\lib\\site-packages\\ipykernel\\zmqshell.py\", line 536, in run_cell\n    return super(ZMQInteractiveShell, self).run_cell(*args, **kwargs)\n  File \"C:\\Anaconda3\\envs\\tensorflowGPU\\lib\\site-packages\\IPython\\core\\interactiveshell.py\", line 2819, in run_cell\n    raw_cell, store_history, silent, shell_futures)\n  File \"C:\\Anaconda3\\envs\\tensorflowGPU\\lib\\site-packages\\IPython\\core\\interactiveshell.py\", line 2845, in _run_cell\n    return runner(coro)\n  File \"C:\\Anaconda3\\envs\\tensorflowGPU\\lib\\site-packages\\IPython\\core\\async_helpers.py\", line 67, in _pseudo_sync_runner\n    coro.send(None)\n  File \"C:\\Anaconda3\\envs\\tensorflowGPU\\lib\\site-packages\\IPython\\core\\interactiveshell.py\", line 3020, in run_cell_async\n    interactivity=interactivity, compiler=compiler, result=result)\n  File \"C:\\Anaconda3\\envs\\tensorflowGPU\\lib\\site-packages\\IPython\\core\\interactiveshell.py\", line 3185, in run_ast_nodes\n    if (yield from self.run_code(code, result)):\n  File \"C:\\Anaconda3\\envs\\tensorflowGPU\\lib\\site-packages\\IPython\\core\\interactiveshell.py\", line 3267, in run_code\n    exec(code_obj, self.user_global_ns, self.user_ns)\n  File \"<ipython-input-40-abffdf2a80a5>\", line 60, in <module>\n    tf.estimator.train_and_evaluate(estimator, train_spec, eval_specs[0])\n  File \"C:\\Anaconda3\\envs\\tensorflowGPU\\lib\\site-packages\\tensorflow\\python\\estimator\\training.py\", line 471, in train_and_evaluate\n    return executor.run()\n  File \"C:\\Anaconda3\\envs\\tensorflowGPU\\lib\\site-packages\\tensorflow\\python\\estimator\\training.py\", line 610, in run\n    return self.run_local()\n  File \"C:\\Anaconda3\\envs\\tensorflowGPU\\lib\\site-packages\\tensorflow\\python\\estimator\\training.py\", line 711, in run_local\n    saving_listeners=saving_listeners)\n  File \"C:\\Anaconda3\\envs\\tensorflowGPU\\lib\\site-packages\\tensorflow\\python\\estimator\\estimator.py\", line 354, in train\n    loss = self._train_model(input_fn, hooks, saving_listeners)\n  File \"C:\\Anaconda3\\envs\\tensorflowGPU\\lib\\site-packages\\tensorflow\\python\\estimator\\estimator.py\", line 1207, in _train_model\n    return self._train_model_default(input_fn, hooks, saving_listeners)\n  File \"C:\\Anaconda3\\envs\\tensorflowGPU\\lib\\site-packages\\tensorflow\\python\\estimator\\estimator.py\", line 1241, in _train_model_default\n    saving_listeners)\n  File \"C:\\Anaconda3\\envs\\tensorflowGPU\\lib\\site-packages\\tensorflow\\python\\estimator\\estimator.py\", line 1471, in _train_with_estimator_spec\n    _, loss = mon_sess.run([estimator_spec.train_op, estimator_spec.loss])\n  File \"C:\\Anaconda3\\envs\\tensorflowGPU\\lib\\site-packages\\tensorflow\\python\\training\\monitored_session.py\", line 671, in run\n    run_metadata=run_metadata)\n  File \"C:\\Anaconda3\\envs\\tensorflowGPU\\lib\\site-packages\\tensorflow\\python\\training\\monitored_session.py\", line 1156, in run\n    run_metadata=run_metadata)\n  File \"C:\\Anaconda3\\envs\\tensorflowGPU\\lib\\site-packages\\tensorflow\\python\\training\\monitored_session.py\", line 1240, in run\n    return self._sess.run(*args, **kwargs)\n  File \"C:\\Anaconda3\\envs\\tensorflowGPU\\lib\\site-packages\\tensorflow\\python\\training\\monitored_session.py\", line 1320, in run\n    run_metadata=run_metadata))\n  File \"C:\\Anaconda3\\envs\\tensorflowGPU\\lib\\site-packages\\tensorflow\\python\\training\\basic_session_run_hooks.py\", line 582, in after_run\n    if self._save(run_context.session, global_step):\n  File \"C:\\Anaconda3\\envs\\tensorflowGPU\\lib\\site-packages\\tensorflow\\python\\training\\basic_session_run_hooks.py\", line 607, in _save\n    if l.after_save(session, step):\n  File \"C:\\Anaconda3\\envs\\tensorflowGPU\\lib\\site-packages\\tensorflow\\python\\estimator\\training.py\", line 517, in after_save\n    self._evaluate(global_step_value)  # updates self.eval_result\n  File \"C:\\Anaconda3\\envs\\tensorflowGPU\\lib\\site-packages\\tensorflow\\python\\estimator\\training.py\", line 537, in _evaluate\n    self._evaluator.evaluate_and_export())\n  File \"C:\\Anaconda3\\envs\\tensorflowGPU\\lib\\site-packages\\tensorflow\\python\\estimator\\training.py\", line 912, in evaluate_and_export\n    hooks=self._eval_spec.hooks)\n  File \"C:\\Anaconda3\\envs\\tensorflowGPU\\lib\\site-packages\\tensorflow\\python\\estimator\\estimator.py\", line 478, in evaluate\n    return _evaluate()\n  File \"C:\\Anaconda3\\envs\\tensorflowGPU\\lib\\site-packages\\tensorflow\\python\\estimator\\estimator.py\", line 460, in _evaluate\n    self._evaluate_build_graph(input_fn, hooks, checkpoint_path))\n  File \"C:\\Anaconda3\\envs\\tensorflowGPU\\lib\\site-packages\\tensorflow\\python\\estimator\\estimator.py\", line 1484, in _evaluate_build_graph\n    self._call_model_fn_eval(input_fn, self.config))\n  File \"C:\\Anaconda3\\envs\\tensorflowGPU\\lib\\site-packages\\tensorflow\\python\\estimator\\estimator.py\", line 1520, in _call_model_fn_eval\n    features, labels, model_fn_lib.ModeKeys.EVAL, config)\n  File \"C:\\Anaconda3\\envs\\tensorflowGPU\\lib\\site-packages\\tensorflow\\python\\estimator\\estimator.py\", line 1195, in _call_model_fn\n    model_fn_results = self._model_fn(features=features, **kwargs)\n  File \"C:\\Anaconda3\\envs\\tensorflowGPU\\lib\\site-packages\\object_detection-0.1-py3.6.egg\\object_detection\\model_lib.py\", line 418, in model_fn\n    eval_config, list(category_index.values()), eval_dict)\n  File \"C:\\Anaconda3\\envs\\tensorflowGPU\\lib\\site-packages\\object_detection-0.1-py3.6.egg\\object_detection\\eval_util.py\", line 848, in get_eval_metric_ops_for_evaluators\n    eval_dict))\n  File \"C:\\Anaconda3\\envs\\tensorflowGPU\\lib\\site-packages\\object_detection-0.1-py3.6.egg\\object_detection\\metrics\\coco_evaluation.py\", line 368, in get_estimator_eval_metric_ops\n    first_value_op = tf.py_func(first_value_func, [], tf.float32)\n  File \"C:\\Anaconda3\\envs\\tensorflowGPU\\lib\\site-packages\\tensorflow\\python\\ops\\script_ops.py\", line 457, in py_func\n    func=func, inp=inp, Tout=Tout, stateful=stateful, eager=False, name=name)\n  File \"C:\\Anaconda3\\envs\\tensorflowGPU\\lib\\site-packages\\tensorflow\\python\\ops\\script_ops.py\", line 281, in _internal_py_func\n    input=inp, token=token, Tout=Tout, name=name)\n  File \"C:\\Anaconda3\\envs\\tensorflowGPU\\lib\\site-packages\\tensorflow\\python\\ops\\gen_script_ops.py\", line 132, in py_func\n    \"PyFunc\", input=input, token=token, Tout=Tout, name=name)\n  File \"C:\\Anaconda3\\envs\\tensorflowGPU\\lib\\site-packages\\tensorflow\\python\\framework\\op_def_library.py\", line 787, in _apply_op_helper\n    op_def=op_def)\n  File \"C:\\Anaconda3\\envs\\tensorflowGPU\\lib\\site-packages\\tensorflow\\python\\util\\deprecation.py\", line 488, in new_func\n    return func(*args, **kwargs)\n  File \"C:\\Anaconda3\\envs\\tensorflowGPU\\lib\\site-packages\\tensorflow\\python\\framework\\ops.py\", line 3274, in create_op\n    op_def=op_def)\n  File \"C:\\Anaconda3\\envs\\tensorflowGPU\\lib\\site-packages\\tensorflow\\python\\framework\\ops.py\", line 1770, in __init__\n    self._traceback = tf_stack.extract_stack()\n\nInvalidArgumentError (see above for traceback): TypeError: can't pickle dict_values objects\nTraceback (most recent call last):\n\n  File \"C:\\Anaconda3\\envs\\tensorflowGPU\\lib\\site-packages\\tensorflow\\python\\ops\\script_ops.py\", line 206, in __call__\n    ret = func(*args)\n\n  File \"C:\\Anaconda3\\envs\\tensorflowGPU\\lib\\site-packages\\object_detection-0.1-py3.6.egg\\object_detection\\metrics\\coco_evaluation.py\", line 358, in first_value_func\n    self._metrics = self.evaluate()\n\n  File \"C:\\Anaconda3\\envs\\tensorflowGPU\\lib\\site-packages\\object_detection-0.1-py3.6.egg\\object_detection\\metrics\\coco_evaluation.py\", line 207, in evaluate\n    self._detection_boxes_list)\n\n  File \"C:\\Anaconda3\\envs\\tensorflowGPU\\lib\\site-packages\\object_detection-0.1-py3.6.egg\\object_detection\\metrics\\coco_tools.py\", line 118, in LoadAnnotations\n    results.dataset['categories'] = copy.deepcopy(self.dataset['categories'])\n\n  File \"C:\\Anaconda3\\envs\\tensorflowGPU\\lib\\copy.py\", line 169, in deepcopy\n    rv = reductor(4)\n\nTypeError: can't pickle dict_values objects\n\n\n\t [[node PyFunc_3 (defined at C:\\Anaconda3\\envs\\tensorflowGPU\\lib\\site-packages\\object_detection-0.1-py3.6.egg\\object_detection\\metrics\\coco_evaluation.py:368)  = PyFunc[Tin=[], Tout=[DT_FLOAT], token=\"pyfunc_39\", _device=\"/job:localhost/replica:0/task:0/device:CPU:0\"]()]]\n\t [[{{node cond_1/Detections_Left_Groundtruth_Right/1/_4273}} = _HostRecv[client_terminated=false, recv_device=\"/job:localhost/replica:0/task:0/device:GPU:0\", send_device=\"/job:localhost/replica:0/task:0/device:CPU:0\", send_device_incarnation=1, tensor_name=\"edge_226_cond_1/Detections_Left_Groundtruth_Right/1\", tensor_type=DT_STRING, _device=\"/job:localhost/replica:0/task:0/device:GPU:0\"]()]]\n",
     "output_type": "error",
     "traceback": [
      "\u001b[1;31m---------------------------------------------------------------------------\u001b[0m",
      "\u001b[1;31mOutOfRangeError\u001b[0m                           Traceback (most recent call last)",
      "\u001b[1;32mC:\\Anaconda3\\envs\\tensorflowGPU\\lib\\site-packages\\tensorflow\\python\\client\\session.py\u001b[0m in \u001b[0;36m_do_call\u001b[1;34m(self, fn, *args)\u001b[0m\n\u001b[0;32m   1333\u001b[0m     \u001b[1;32mtry\u001b[0m\u001b[1;33m:\u001b[0m\u001b[1;33m\u001b[0m\u001b[1;33m\u001b[0m\u001b[0m\n\u001b[1;32m-> 1334\u001b[1;33m       \u001b[1;32mreturn\u001b[0m \u001b[0mfn\u001b[0m\u001b[1;33m(\u001b[0m\u001b[1;33m*\u001b[0m\u001b[0margs\u001b[0m\u001b[1;33m)\u001b[0m\u001b[1;33m\u001b[0m\u001b[1;33m\u001b[0m\u001b[0m\n\u001b[0m\u001b[0;32m   1335\u001b[0m     \u001b[1;32mexcept\u001b[0m \u001b[0merrors\u001b[0m\u001b[1;33m.\u001b[0m\u001b[0mOpError\u001b[0m \u001b[1;32mas\u001b[0m \u001b[0me\u001b[0m\u001b[1;33m:\u001b[0m\u001b[1;33m\u001b[0m\u001b[1;33m\u001b[0m\u001b[0m\n",
      "\u001b[1;32mC:\\Anaconda3\\envs\\tensorflowGPU\\lib\\site-packages\\tensorflow\\python\\client\\session.py\u001b[0m in \u001b[0;36m_run_fn\u001b[1;34m(feed_dict, fetch_list, target_list, options, run_metadata)\u001b[0m\n\u001b[0;32m   1318\u001b[0m       return self._call_tf_sessionrun(\n\u001b[1;32m-> 1319\u001b[1;33m           options, feed_dict, fetch_list, target_list, run_metadata)\n\u001b[0m\u001b[0;32m   1320\u001b[0m \u001b[1;33m\u001b[0m\u001b[0m\n",
      "\u001b[1;32mC:\\Anaconda3\\envs\\tensorflowGPU\\lib\\site-packages\\tensorflow\\python\\client\\session.py\u001b[0m in \u001b[0;36m_call_tf_sessionrun\u001b[1;34m(self, options, feed_dict, fetch_list, target_list, run_metadata)\u001b[0m\n\u001b[0;32m   1406\u001b[0m         \u001b[0mself\u001b[0m\u001b[1;33m.\u001b[0m\u001b[0m_session\u001b[0m\u001b[1;33m,\u001b[0m \u001b[0moptions\u001b[0m\u001b[1;33m,\u001b[0m \u001b[0mfeed_dict\u001b[0m\u001b[1;33m,\u001b[0m \u001b[0mfetch_list\u001b[0m\u001b[1;33m,\u001b[0m \u001b[0mtarget_list\u001b[0m\u001b[1;33m,\u001b[0m\u001b[1;33m\u001b[0m\u001b[1;33m\u001b[0m\u001b[0m\n\u001b[1;32m-> 1407\u001b[1;33m         run_metadata)\n\u001b[0m\u001b[0;32m   1408\u001b[0m \u001b[1;33m\u001b[0m\u001b[0m\n",
      "\u001b[1;31mOutOfRangeError\u001b[0m: End of sequence\n\t [[{{node IteratorGetNext}} = IteratorGetNext[output_shapes=[[1], [1,?,?,3], [1,?,?,3], [1,2], [1,3], [1,100], [1,100,4], [1,100,1], [1,100,1], [1,100], [1,100], [1,100], [1]], output_types=[DT_INT32, DT_FLOAT, DT_UINT8, DT_INT32, DT_INT32, DT_FLOAT, DT_FLOAT, DT_FLOAT, DT_FLOAT, DT_INT32, DT_BOOL, DT_FLOAT, DT_INT32], _device=\"/job:localhost/replica:0/task:0/device:CPU:0\"](IteratorV2)]]\n\t [[{{node FirstStageFeatureExtractor/Shape/_3603}} = _HostRecv[client_terminated=false, recv_device=\"/job:localhost/replica:0/task:0/device:GPU:0\", send_device=\"/job:localhost/replica:0/task:0/device:CPU:0\", send_device_incarnation=1, tensor_name=\"edge_702_FirstStageFeatureExtractor/Shape\", tensor_type=DT_INT32, _device=\"/job:localhost/replica:0/task:0/device:GPU:0\"]()]]",
      "\nDuring handling of the above exception, another exception occurred:\n",
      "\u001b[1;31mOutOfRangeError\u001b[0m                           Traceback (most recent call last)",
      "\u001b[1;32mC:\\Anaconda3\\envs\\tensorflowGPU\\lib\\site-packages\\tensorflow\\python\\training\\evaluation.py\u001b[0m in \u001b[0;36m_evaluate_once\u001b[1;34m(checkpoint_path, master, scaffold, eval_ops, feed_dict, final_ops, final_ops_feed_dict, hooks, config)\u001b[0m\n\u001b[0;32m    273\u001b[0m       \u001b[1;32mwhile\u001b[0m \u001b[1;32mnot\u001b[0m \u001b[0msession\u001b[0m\u001b[1;33m.\u001b[0m\u001b[0mshould_stop\u001b[0m\u001b[1;33m(\u001b[0m\u001b[1;33m)\u001b[0m\u001b[1;33m:\u001b[0m\u001b[1;33m\u001b[0m\u001b[1;33m\u001b[0m\u001b[0m\n\u001b[1;32m--> 274\u001b[1;33m         \u001b[0msession\u001b[0m\u001b[1;33m.\u001b[0m\u001b[0mrun\u001b[0m\u001b[1;33m(\u001b[0m\u001b[0meval_ops\u001b[0m\u001b[1;33m,\u001b[0m \u001b[0mfeed_dict\u001b[0m\u001b[1;33m)\u001b[0m\u001b[1;33m\u001b[0m\u001b[1;33m\u001b[0m\u001b[0m\n\u001b[0m\u001b[0;32m    275\u001b[0m \u001b[1;33m\u001b[0m\u001b[0m\n",
      "\u001b[1;32mC:\\Anaconda3\\envs\\tensorflowGPU\\lib\\site-packages\\tensorflow\\python\\training\\monitored_session.py\u001b[0m in \u001b[0;36mrun\u001b[1;34m(self, fetches, feed_dict, options, run_metadata)\u001b[0m\n\u001b[0;32m    670\u001b[0m                           \u001b[0moptions\u001b[0m\u001b[1;33m=\u001b[0m\u001b[0moptions\u001b[0m\u001b[1;33m,\u001b[0m\u001b[1;33m\u001b[0m\u001b[1;33m\u001b[0m\u001b[0m\n\u001b[1;32m--> 671\u001b[1;33m                           run_metadata=run_metadata)\n\u001b[0m\u001b[0;32m    672\u001b[0m \u001b[1;33m\u001b[0m\u001b[0m\n",
      "\u001b[1;32mC:\\Anaconda3\\envs\\tensorflowGPU\\lib\\site-packages\\tensorflow\\python\\training\\monitored_session.py\u001b[0m in \u001b[0;36mrun\u001b[1;34m(self, fetches, feed_dict, options, run_metadata)\u001b[0m\n\u001b[0;32m   1155\u001b[0m                               \u001b[0moptions\u001b[0m\u001b[1;33m=\u001b[0m\u001b[0moptions\u001b[0m\u001b[1;33m,\u001b[0m\u001b[1;33m\u001b[0m\u001b[1;33m\u001b[0m\u001b[0m\n\u001b[1;32m-> 1156\u001b[1;33m                               run_metadata=run_metadata)\n\u001b[0m\u001b[0;32m   1157\u001b[0m       \u001b[1;32mexcept\u001b[0m \u001b[0m_PREEMPTION_ERRORS\u001b[0m \u001b[1;32mas\u001b[0m \u001b[0me\u001b[0m\u001b[1;33m:\u001b[0m\u001b[1;33m\u001b[0m\u001b[1;33m\u001b[0m\u001b[0m\n",
      "\u001b[1;32mC:\\Anaconda3\\envs\\tensorflowGPU\\lib\\site-packages\\tensorflow\\python\\training\\monitored_session.py\u001b[0m in \u001b[0;36mrun\u001b[1;34m(self, *args, **kwargs)\u001b[0m\n\u001b[0;32m   1254\u001b[0m       \u001b[1;32melse\u001b[0m\u001b[1;33m:\u001b[0m\u001b[1;33m\u001b[0m\u001b[1;33m\u001b[0m\u001b[0m\n\u001b[1;32m-> 1255\u001b[1;33m         \u001b[1;32mraise\u001b[0m \u001b[0msix\u001b[0m\u001b[1;33m.\u001b[0m\u001b[0mreraise\u001b[0m\u001b[1;33m(\u001b[0m\u001b[1;33m*\u001b[0m\u001b[0moriginal_exc_info\u001b[0m\u001b[1;33m)\u001b[0m\u001b[1;33m\u001b[0m\u001b[1;33m\u001b[0m\u001b[0m\n\u001b[0m\u001b[0;32m   1256\u001b[0m \u001b[1;33m\u001b[0m\u001b[0m\n",
      "\u001b[1;32mC:\\Anaconda3\\envs\\tensorflowGPU\\lib\\site-packages\\six.py\u001b[0m in \u001b[0;36mreraise\u001b[1;34m(tp, value, tb)\u001b[0m\n\u001b[0;32m    692\u001b[0m                 \u001b[1;32mraise\u001b[0m \u001b[0mvalue\u001b[0m\u001b[1;33m.\u001b[0m\u001b[0mwith_traceback\u001b[0m\u001b[1;33m(\u001b[0m\u001b[0mtb\u001b[0m\u001b[1;33m)\u001b[0m\u001b[1;33m\u001b[0m\u001b[1;33m\u001b[0m\u001b[0m\n\u001b[1;32m--> 693\u001b[1;33m             \u001b[1;32mraise\u001b[0m \u001b[0mvalue\u001b[0m\u001b[1;33m\u001b[0m\u001b[1;33m\u001b[0m\u001b[0m\n\u001b[0m\u001b[0;32m    694\u001b[0m         \u001b[1;32mfinally\u001b[0m\u001b[1;33m:\u001b[0m\u001b[1;33m\u001b[0m\u001b[1;33m\u001b[0m\u001b[0m\n",
      "\u001b[1;32mC:\\Anaconda3\\envs\\tensorflowGPU\\lib\\site-packages\\tensorflow\\python\\training\\monitored_session.py\u001b[0m in \u001b[0;36mrun\u001b[1;34m(self, *args, **kwargs)\u001b[0m\n\u001b[0;32m   1239\u001b[0m     \u001b[1;32mtry\u001b[0m\u001b[1;33m:\u001b[0m\u001b[1;33m\u001b[0m\u001b[1;33m\u001b[0m\u001b[0m\n\u001b[1;32m-> 1240\u001b[1;33m       \u001b[1;32mreturn\u001b[0m \u001b[0mself\u001b[0m\u001b[1;33m.\u001b[0m\u001b[0m_sess\u001b[0m\u001b[1;33m.\u001b[0m\u001b[0mrun\u001b[0m\u001b[1;33m(\u001b[0m\u001b[1;33m*\u001b[0m\u001b[0margs\u001b[0m\u001b[1;33m,\u001b[0m \u001b[1;33m**\u001b[0m\u001b[0mkwargs\u001b[0m\u001b[1;33m)\u001b[0m\u001b[1;33m\u001b[0m\u001b[1;33m\u001b[0m\u001b[0m\n\u001b[0m\u001b[0;32m   1241\u001b[0m     \u001b[1;32mexcept\u001b[0m \u001b[0m_PREEMPTION_ERRORS\u001b[0m\u001b[1;33m:\u001b[0m\u001b[1;33m\u001b[0m\u001b[1;33m\u001b[0m\u001b[0m\n",
      "\u001b[1;32mC:\\Anaconda3\\envs\\tensorflowGPU\\lib\\site-packages\\tensorflow\\python\\training\\monitored_session.py\u001b[0m in \u001b[0;36mrun\u001b[1;34m(self, fetches, feed_dict, options, run_metadata)\u001b[0m\n\u001b[0;32m   1311\u001b[0m                                   \u001b[0moptions\u001b[0m\u001b[1;33m=\u001b[0m\u001b[0moptions\u001b[0m\u001b[1;33m,\u001b[0m\u001b[1;33m\u001b[0m\u001b[1;33m\u001b[0m\u001b[0m\n\u001b[1;32m-> 1312\u001b[1;33m                                   run_metadata=run_metadata)\n\u001b[0m\u001b[0;32m   1313\u001b[0m \u001b[1;33m\u001b[0m\u001b[0m\n",
      "\u001b[1;32mC:\\Anaconda3\\envs\\tensorflowGPU\\lib\\site-packages\\tensorflow\\python\\training\\monitored_session.py\u001b[0m in \u001b[0;36mrun\u001b[1;34m(self, *args, **kwargs)\u001b[0m\n\u001b[0;32m   1075\u001b[0m   \u001b[1;32mdef\u001b[0m \u001b[0mrun\u001b[0m\u001b[1;33m(\u001b[0m\u001b[0mself\u001b[0m\u001b[1;33m,\u001b[0m \u001b[1;33m*\u001b[0m\u001b[0margs\u001b[0m\u001b[1;33m,\u001b[0m \u001b[1;33m**\u001b[0m\u001b[0mkwargs\u001b[0m\u001b[1;33m)\u001b[0m\u001b[1;33m:\u001b[0m\u001b[1;33m\u001b[0m\u001b[1;33m\u001b[0m\u001b[0m\n\u001b[1;32m-> 1076\u001b[1;33m     \u001b[1;32mreturn\u001b[0m \u001b[0mself\u001b[0m\u001b[1;33m.\u001b[0m\u001b[0m_sess\u001b[0m\u001b[1;33m.\u001b[0m\u001b[0mrun\u001b[0m\u001b[1;33m(\u001b[0m\u001b[1;33m*\u001b[0m\u001b[0margs\u001b[0m\u001b[1;33m,\u001b[0m \u001b[1;33m**\u001b[0m\u001b[0mkwargs\u001b[0m\u001b[1;33m)\u001b[0m\u001b[1;33m\u001b[0m\u001b[1;33m\u001b[0m\u001b[0m\n\u001b[0m\u001b[0;32m   1077\u001b[0m \u001b[1;33m\u001b[0m\u001b[0m\n",
      "\u001b[1;32mC:\\Anaconda3\\envs\\tensorflowGPU\\lib\\site-packages\\tensorflow\\python\\client\\session.py\u001b[0m in \u001b[0;36mrun\u001b[1;34m(self, fetches, feed_dict, options, run_metadata)\u001b[0m\n\u001b[0;32m    928\u001b[0m       result = self._run(None, fetches, feed_dict, options_ptr,\n\u001b[1;32m--> 929\u001b[1;33m                          run_metadata_ptr)\n\u001b[0m\u001b[0;32m    930\u001b[0m       \u001b[1;32mif\u001b[0m \u001b[0mrun_metadata\u001b[0m\u001b[1;33m:\u001b[0m\u001b[1;33m\u001b[0m\u001b[1;33m\u001b[0m\u001b[0m\n",
      "\u001b[1;32mC:\\Anaconda3\\envs\\tensorflowGPU\\lib\\site-packages\\tensorflow\\python\\client\\session.py\u001b[0m in \u001b[0;36m_run\u001b[1;34m(self, handle, fetches, feed_dict, options, run_metadata)\u001b[0m\n\u001b[0;32m   1151\u001b[0m       results = self._do_run(handle, final_targets, final_fetches,\n\u001b[1;32m-> 1152\u001b[1;33m                              feed_dict_tensor, options, run_metadata)\n\u001b[0m\u001b[0;32m   1153\u001b[0m     \u001b[1;32melse\u001b[0m\u001b[1;33m:\u001b[0m\u001b[1;33m\u001b[0m\u001b[1;33m\u001b[0m\u001b[0m\n",
      "\u001b[1;32mC:\\Anaconda3\\envs\\tensorflowGPU\\lib\\site-packages\\tensorflow\\python\\client\\session.py\u001b[0m in \u001b[0;36m_do_run\u001b[1;34m(self, handle, target_list, fetch_list, feed_dict, options, run_metadata)\u001b[0m\n\u001b[0;32m   1327\u001b[0m       return self._do_call(_run_fn, feeds, fetches, targets, options,\n\u001b[1;32m-> 1328\u001b[1;33m                            run_metadata)\n\u001b[0m\u001b[0;32m   1329\u001b[0m     \u001b[1;32melse\u001b[0m\u001b[1;33m:\u001b[0m\u001b[1;33m\u001b[0m\u001b[1;33m\u001b[0m\u001b[0m\n",
      "\u001b[1;32mC:\\Anaconda3\\envs\\tensorflowGPU\\lib\\site-packages\\tensorflow\\python\\client\\session.py\u001b[0m in \u001b[0;36m_do_call\u001b[1;34m(self, fn, *args)\u001b[0m\n\u001b[0;32m   1347\u001b[0m       \u001b[0mmessage\u001b[0m \u001b[1;33m=\u001b[0m \u001b[0merror_interpolation\u001b[0m\u001b[1;33m.\u001b[0m\u001b[0minterpolate\u001b[0m\u001b[1;33m(\u001b[0m\u001b[0mmessage\u001b[0m\u001b[1;33m,\u001b[0m \u001b[0mself\u001b[0m\u001b[1;33m.\u001b[0m\u001b[0m_graph\u001b[0m\u001b[1;33m)\u001b[0m\u001b[1;33m\u001b[0m\u001b[1;33m\u001b[0m\u001b[0m\n\u001b[1;32m-> 1348\u001b[1;33m       \u001b[1;32mraise\u001b[0m \u001b[0mtype\u001b[0m\u001b[1;33m(\u001b[0m\u001b[0me\u001b[0m\u001b[1;33m)\u001b[0m\u001b[1;33m(\u001b[0m\u001b[0mnode_def\u001b[0m\u001b[1;33m,\u001b[0m \u001b[0mop\u001b[0m\u001b[1;33m,\u001b[0m \u001b[0mmessage\u001b[0m\u001b[1;33m)\u001b[0m\u001b[1;33m\u001b[0m\u001b[1;33m\u001b[0m\u001b[0m\n\u001b[0m\u001b[0;32m   1349\u001b[0m \u001b[1;33m\u001b[0m\u001b[0m\n",
      "\u001b[1;31mOutOfRangeError\u001b[0m: End of sequence\n\t [[node IteratorGetNext (defined at <ipython-input-40-abffdf2a80a5>:60)  = IteratorGetNext[output_shapes=[[1], [1,?,?,3], [1,?,?,3], [1,2], [1,3], [1,100], [1,100,4], [1,100,1], [1,100,1], [1,100], [1,100], [1,100], [1]], output_types=[DT_INT32, DT_FLOAT, DT_UINT8, DT_INT32, DT_INT32, DT_FLOAT, DT_FLOAT, DT_FLOAT, DT_FLOAT, DT_INT32, DT_BOOL, DT_FLOAT, DT_INT32], _device=\"/job:localhost/replica:0/task:0/device:CPU:0\"](IteratorV2)]]\n\t [[{{node FirstStageFeatureExtractor/Shape/_3603}} = _HostRecv[client_terminated=false, recv_device=\"/job:localhost/replica:0/task:0/device:GPU:0\", send_device=\"/job:localhost/replica:0/task:0/device:CPU:0\", send_device_incarnation=1, tensor_name=\"edge_702_FirstStageFeatureExtractor/Shape\", tensor_type=DT_INT32, _device=\"/job:localhost/replica:0/task:0/device:GPU:0\"]()]]\n\nCaused by op 'IteratorGetNext', defined at:\n  File \"C:\\Anaconda3\\envs\\tensorflowGPU\\lib\\runpy.py\", line 193, in _run_module_as_main\n    \"__main__\", mod_spec)\n  File \"C:\\Anaconda3\\envs\\tensorflowGPU\\lib\\runpy.py\", line 85, in _run_code\n    exec(code, run_globals)\n  File \"C:\\Anaconda3\\envs\\tensorflowGPU\\lib\\site-packages\\ipykernel_launcher.py\", line 16, in <module>\n    app.launch_new_instance()\n  File \"C:\\Anaconda3\\envs\\tensorflowGPU\\lib\\site-packages\\traitlets\\config\\application.py\", line 658, in launch_instance\n    app.start()\n  File \"C:\\Anaconda3\\envs\\tensorflowGPU\\lib\\site-packages\\ipykernel\\kernelapp.py\", line 505, in start\n    self.io_loop.start()\n  File \"C:\\Anaconda3\\envs\\tensorflowGPU\\lib\\site-packages\\tornado\\platform\\asyncio.py\", line 132, in start\n    self.asyncio_loop.run_forever()\n  File \"C:\\Anaconda3\\envs\\tensorflowGPU\\lib\\asyncio\\base_events.py\", line 427, in run_forever\n    self._run_once()\n  File \"C:\\Anaconda3\\envs\\tensorflowGPU\\lib\\asyncio\\base_events.py\", line 1440, in _run_once\n    handle._run()\n  File \"C:\\Anaconda3\\envs\\tensorflowGPU\\lib\\asyncio\\events.py\", line 145, in _run\n    self._callback(*self._args)\n  File \"C:\\Anaconda3\\envs\\tensorflowGPU\\lib\\site-packages\\tornado\\ioloop.py\", line 758, in _run_callback\n    ret = callback()\n  File \"C:\\Anaconda3\\envs\\tensorflowGPU\\lib\\site-packages\\tornado\\stack_context.py\", line 300, in null_wrapper\n    return fn(*args, **kwargs)\n  File \"C:\\Anaconda3\\envs\\tensorflowGPU\\lib\\site-packages\\tornado\\gen.py\", line 1233, in inner\n    self.run()\n  File \"C:\\Anaconda3\\envs\\tensorflowGPU\\lib\\site-packages\\tornado\\gen.py\", line 1147, in run\n    yielded = self.gen.send(value)\n  File \"C:\\Anaconda3\\envs\\tensorflowGPU\\lib\\site-packages\\ipykernel\\kernelbase.py\", line 357, in process_one\n    yield gen.maybe_future(dispatch(*args))\n  File \"C:\\Anaconda3\\envs\\tensorflowGPU\\lib\\site-packages\\tornado\\gen.py\", line 326, in wrapper\n    yielded = next(result)\n  File \"C:\\Anaconda3\\envs\\tensorflowGPU\\lib\\site-packages\\ipykernel\\kernelbase.py\", line 267, in dispatch_shell\n    yield gen.maybe_future(handler(stream, idents, msg))\n  File \"C:\\Anaconda3\\envs\\tensorflowGPU\\lib\\site-packages\\tornado\\gen.py\", line 326, in wrapper\n    yielded = next(result)\n  File \"C:\\Anaconda3\\envs\\tensorflowGPU\\lib\\site-packages\\ipykernel\\kernelbase.py\", line 534, in execute_request\n    user_expressions, allow_stdin,\n  File \"C:\\Anaconda3\\envs\\tensorflowGPU\\lib\\site-packages\\tornado\\gen.py\", line 326, in wrapper\n    yielded = next(result)\n  File \"C:\\Anaconda3\\envs\\tensorflowGPU\\lib\\site-packages\\ipykernel\\ipkernel.py\", line 294, in do_execute\n    res = shell.run_cell(code, store_history=store_history, silent=silent)\n  File \"C:\\Anaconda3\\envs\\tensorflowGPU\\lib\\site-packages\\ipykernel\\zmqshell.py\", line 536, in run_cell\n    return super(ZMQInteractiveShell, self).run_cell(*args, **kwargs)\n  File \"C:\\Anaconda3\\envs\\tensorflowGPU\\lib\\site-packages\\IPython\\core\\interactiveshell.py\", line 2819, in run_cell\n    raw_cell, store_history, silent, shell_futures)\n  File \"C:\\Anaconda3\\envs\\tensorflowGPU\\lib\\site-packages\\IPython\\core\\interactiveshell.py\", line 2845, in _run_cell\n    return runner(coro)\n  File \"C:\\Anaconda3\\envs\\tensorflowGPU\\lib\\site-packages\\IPython\\core\\async_helpers.py\", line 67, in _pseudo_sync_runner\n    coro.send(None)\n  File \"C:\\Anaconda3\\envs\\tensorflowGPU\\lib\\site-packages\\IPython\\core\\interactiveshell.py\", line 3020, in run_cell_async\n    interactivity=interactivity, compiler=compiler, result=result)\n  File \"C:\\Anaconda3\\envs\\tensorflowGPU\\lib\\site-packages\\IPython\\core\\interactiveshell.py\", line 3185, in run_ast_nodes\n    if (yield from self.run_code(code, result)):\n  File \"C:\\Anaconda3\\envs\\tensorflowGPU\\lib\\site-packages\\IPython\\core\\interactiveshell.py\", line 3267, in run_code\n    exec(code_obj, self.user_global_ns, self.user_ns)\n  File \"<ipython-input-40-abffdf2a80a5>\", line 60, in <module>\n    tf.estimator.train_and_evaluate(estimator, train_spec, eval_specs[0])\n  File \"C:\\Anaconda3\\envs\\tensorflowGPU\\lib\\site-packages\\tensorflow\\python\\estimator\\training.py\", line 471, in train_and_evaluate\n    return executor.run()\n  File \"C:\\Anaconda3\\envs\\tensorflowGPU\\lib\\site-packages\\tensorflow\\python\\estimator\\training.py\", line 610, in run\n    return self.run_local()\n  File \"C:\\Anaconda3\\envs\\tensorflowGPU\\lib\\site-packages\\tensorflow\\python\\estimator\\training.py\", line 711, in run_local\n    saving_listeners=saving_listeners)\n  File \"C:\\Anaconda3\\envs\\tensorflowGPU\\lib\\site-packages\\tensorflow\\python\\estimator\\estimator.py\", line 354, in train\n    loss = self._train_model(input_fn, hooks, saving_listeners)\n  File \"C:\\Anaconda3\\envs\\tensorflowGPU\\lib\\site-packages\\tensorflow\\python\\estimator\\estimator.py\", line 1207, in _train_model\n    return self._train_model_default(input_fn, hooks, saving_listeners)\n  File \"C:\\Anaconda3\\envs\\tensorflowGPU\\lib\\site-packages\\tensorflow\\python\\estimator\\estimator.py\", line 1241, in _train_model_default\n    saving_listeners)\n  File \"C:\\Anaconda3\\envs\\tensorflowGPU\\lib\\site-packages\\tensorflow\\python\\estimator\\estimator.py\", line 1471, in _train_with_estimator_spec\n    _, loss = mon_sess.run([estimator_spec.train_op, estimator_spec.loss])\n  File \"C:\\Anaconda3\\envs\\tensorflowGPU\\lib\\site-packages\\tensorflow\\python\\training\\monitored_session.py\", line 671, in run\n    run_metadata=run_metadata)\n  File \"C:\\Anaconda3\\envs\\tensorflowGPU\\lib\\site-packages\\tensorflow\\python\\training\\monitored_session.py\", line 1156, in run\n    run_metadata=run_metadata)\n  File \"C:\\Anaconda3\\envs\\tensorflowGPU\\lib\\site-packages\\tensorflow\\python\\training\\monitored_session.py\", line 1240, in run\n    return self._sess.run(*args, **kwargs)\n  File \"C:\\Anaconda3\\envs\\tensorflowGPU\\lib\\site-packages\\tensorflow\\python\\training\\monitored_session.py\", line 1320, in run\n    run_metadata=run_metadata))\n  File \"C:\\Anaconda3\\envs\\tensorflowGPU\\lib\\site-packages\\tensorflow\\python\\training\\basic_session_run_hooks.py\", line 582, in after_run\n    if self._save(run_context.session, global_step):\n  File \"C:\\Anaconda3\\envs\\tensorflowGPU\\lib\\site-packages\\tensorflow\\python\\training\\basic_session_run_hooks.py\", line 607, in _save\n    if l.after_save(session, step):\n  File \"C:\\Anaconda3\\envs\\tensorflowGPU\\lib\\site-packages\\tensorflow\\python\\estimator\\training.py\", line 517, in after_save\n    self._evaluate(global_step_value)  # updates self.eval_result\n  File \"C:\\Anaconda3\\envs\\tensorflowGPU\\lib\\site-packages\\tensorflow\\python\\estimator\\training.py\", line 537, in _evaluate\n    self._evaluator.evaluate_and_export())\n  File \"C:\\Anaconda3\\envs\\tensorflowGPU\\lib\\site-packages\\tensorflow\\python\\estimator\\training.py\", line 912, in evaluate_and_export\n    hooks=self._eval_spec.hooks)\n  File \"C:\\Anaconda3\\envs\\tensorflowGPU\\lib\\site-packages\\tensorflow\\python\\estimator\\estimator.py\", line 478, in evaluate\n    return _evaluate()\n  File \"C:\\Anaconda3\\envs\\tensorflowGPU\\lib\\site-packages\\tensorflow\\python\\estimator\\estimator.py\", line 460, in _evaluate\n    self._evaluate_build_graph(input_fn, hooks, checkpoint_path))\n  File \"C:\\Anaconda3\\envs\\tensorflowGPU\\lib\\site-packages\\tensorflow\\python\\estimator\\estimator.py\", line 1484, in _evaluate_build_graph\n    self._call_model_fn_eval(input_fn, self.config))\n  File \"C:\\Anaconda3\\envs\\tensorflowGPU\\lib\\site-packages\\tensorflow\\python\\estimator\\estimator.py\", line 1517, in _call_model_fn_eval\n    input_fn, model_fn_lib.ModeKeys.EVAL)\n  File \"C:\\Anaconda3\\envs\\tensorflowGPU\\lib\\site-packages\\tensorflow\\python\\estimator\\estimator.py\", line 1075, in _get_features_and_labels_from_input_fn\n    self._call_input_fn(input_fn, mode))\n  File \"C:\\Anaconda3\\envs\\tensorflowGPU\\lib\\site-packages\\tensorflow\\python\\estimator\\util.py\", line 110, in parse_input_fn_result\n    result = iterator.get_next()\n  File \"C:\\Anaconda3\\envs\\tensorflowGPU\\lib\\site-packages\\tensorflow\\python\\data\\ops\\iterator_ops.py\", line 421, in get_next\n    name=name)), self._output_types,\n  File \"C:\\Anaconda3\\envs\\tensorflowGPU\\lib\\site-packages\\tensorflow\\python\\ops\\gen_dataset_ops.py\", line 2108, in iterator_get_next\n    output_shapes=output_shapes, name=name)\n  File \"C:\\Anaconda3\\envs\\tensorflowGPU\\lib\\site-packages\\tensorflow\\python\\framework\\op_def_library.py\", line 787, in _apply_op_helper\n    op_def=op_def)\n  File \"C:\\Anaconda3\\envs\\tensorflowGPU\\lib\\site-packages\\tensorflow\\python\\util\\deprecation.py\", line 488, in new_func\n    return func(*args, **kwargs)\n  File \"C:\\Anaconda3\\envs\\tensorflowGPU\\lib\\site-packages\\tensorflow\\python\\framework\\ops.py\", line 3274, in create_op\n    op_def=op_def)\n  File \"C:\\Anaconda3\\envs\\tensorflowGPU\\lib\\site-packages\\tensorflow\\python\\framework\\ops.py\", line 1770, in __init__\n    self._traceback = tf_stack.extract_stack()\n\nOutOfRangeError (see above for traceback): End of sequence\n\t [[node IteratorGetNext (defined at <ipython-input-40-abffdf2a80a5>:60)  = IteratorGetNext[output_shapes=[[1], [1,?,?,3], [1,?,?,3], [1,2], [1,3], [1,100], [1,100,4], [1,100,1], [1,100,1], [1,100], [1,100], [1,100], [1]], output_types=[DT_INT32, DT_FLOAT, DT_UINT8, DT_INT32, DT_INT32, DT_FLOAT, DT_FLOAT, DT_FLOAT, DT_FLOAT, DT_INT32, DT_BOOL, DT_FLOAT, DT_INT32], _device=\"/job:localhost/replica:0/task:0/device:CPU:0\"](IteratorV2)]]\n\t [[{{node FirstStageFeatureExtractor/Shape/_3603}} = _HostRecv[client_terminated=false, recv_device=\"/job:localhost/replica:0/task:0/device:GPU:0\", send_device=\"/job:localhost/replica:0/task:0/device:CPU:0\", send_device_incarnation=1, tensor_name=\"edge_702_FirstStageFeatureExtractor/Shape\", tensor_type=DT_INT32, _device=\"/job:localhost/replica:0/task:0/device:GPU:0\"]()]]\n",
      "\nDuring handling of the above exception, another exception occurred:\n",
      "\u001b[1;31mInvalidArgumentError\u001b[0m                      Traceback (most recent call last)",
      "\u001b[1;32mC:\\Anaconda3\\envs\\tensorflowGPU\\lib\\site-packages\\tensorflow\\python\\client\\session.py\u001b[0m in \u001b[0;36m_do_call\u001b[1;34m(self, fn, *args)\u001b[0m\n\u001b[0;32m   1333\u001b[0m     \u001b[1;32mtry\u001b[0m\u001b[1;33m:\u001b[0m\u001b[1;33m\u001b[0m\u001b[1;33m\u001b[0m\u001b[0m\n\u001b[1;32m-> 1334\u001b[1;33m       \u001b[1;32mreturn\u001b[0m \u001b[0mfn\u001b[0m\u001b[1;33m(\u001b[0m\u001b[1;33m*\u001b[0m\u001b[0margs\u001b[0m\u001b[1;33m)\u001b[0m\u001b[1;33m\u001b[0m\u001b[1;33m\u001b[0m\u001b[0m\n\u001b[0m\u001b[0;32m   1335\u001b[0m     \u001b[1;32mexcept\u001b[0m \u001b[0merrors\u001b[0m\u001b[1;33m.\u001b[0m\u001b[0mOpError\u001b[0m \u001b[1;32mas\u001b[0m \u001b[0me\u001b[0m\u001b[1;33m:\u001b[0m\u001b[1;33m\u001b[0m\u001b[1;33m\u001b[0m\u001b[0m\n",
      "\u001b[1;32mC:\\Anaconda3\\envs\\tensorflowGPU\\lib\\site-packages\\tensorflow\\python\\client\\session.py\u001b[0m in \u001b[0;36m_run_fn\u001b[1;34m(feed_dict, fetch_list, target_list, options, run_metadata)\u001b[0m\n\u001b[0;32m   1318\u001b[0m       return self._call_tf_sessionrun(\n\u001b[1;32m-> 1319\u001b[1;33m           options, feed_dict, fetch_list, target_list, run_metadata)\n\u001b[0m\u001b[0;32m   1320\u001b[0m \u001b[1;33m\u001b[0m\u001b[0m\n",
      "\u001b[1;32mC:\\Anaconda3\\envs\\tensorflowGPU\\lib\\site-packages\\tensorflow\\python\\client\\session.py\u001b[0m in \u001b[0;36m_call_tf_sessionrun\u001b[1;34m(self, options, feed_dict, fetch_list, target_list, run_metadata)\u001b[0m\n\u001b[0;32m   1406\u001b[0m         \u001b[0mself\u001b[0m\u001b[1;33m.\u001b[0m\u001b[0m_session\u001b[0m\u001b[1;33m,\u001b[0m \u001b[0moptions\u001b[0m\u001b[1;33m,\u001b[0m \u001b[0mfeed_dict\u001b[0m\u001b[1;33m,\u001b[0m \u001b[0mfetch_list\u001b[0m\u001b[1;33m,\u001b[0m \u001b[0mtarget_list\u001b[0m\u001b[1;33m,\u001b[0m\u001b[1;33m\u001b[0m\u001b[1;33m\u001b[0m\u001b[0m\n\u001b[1;32m-> 1407\u001b[1;33m         run_metadata)\n\u001b[0m\u001b[0;32m   1408\u001b[0m \u001b[1;33m\u001b[0m\u001b[0m\n",
      "\u001b[1;31mInvalidArgumentError\u001b[0m: TypeError: can't pickle dict_values objects\nTraceback (most recent call last):\n\n  File \"C:\\Anaconda3\\envs\\tensorflowGPU\\lib\\site-packages\\tensorflow\\python\\ops\\script_ops.py\", line 206, in __call__\n    ret = func(*args)\n\n  File \"C:\\Anaconda3\\envs\\tensorflowGPU\\lib\\site-packages\\object_detection-0.1-py3.6.egg\\object_detection\\metrics\\coco_evaluation.py\", line 358, in first_value_func\n    self._metrics = self.evaluate()\n\n  File \"C:\\Anaconda3\\envs\\tensorflowGPU\\lib\\site-packages\\object_detection-0.1-py3.6.egg\\object_detection\\metrics\\coco_evaluation.py\", line 207, in evaluate\n    self._detection_boxes_list)\n\n  File \"C:\\Anaconda3\\envs\\tensorflowGPU\\lib\\site-packages\\object_detection-0.1-py3.6.egg\\object_detection\\metrics\\coco_tools.py\", line 118, in LoadAnnotations\n    results.dataset['categories'] = copy.deepcopy(self.dataset['categories'])\n\n  File \"C:\\Anaconda3\\envs\\tensorflowGPU\\lib\\copy.py\", line 169, in deepcopy\n    rv = reductor(4)\n\nTypeError: can't pickle dict_values objects\n\n\n\t [[{{node PyFunc_3}} = PyFunc[Tin=[], Tout=[DT_FLOAT], token=\"pyfunc_39\", _device=\"/job:localhost/replica:0/task:0/device:CPU:0\"]()]]\n\t [[{{node cond_1/Detections_Left_Groundtruth_Right/1/_4273}} = _HostRecv[client_terminated=false, recv_device=\"/job:localhost/replica:0/task:0/device:GPU:0\", send_device=\"/job:localhost/replica:0/task:0/device:CPU:0\", send_device_incarnation=1, tensor_name=\"edge_226_cond_1/Detections_Left_Groundtruth_Right/1\", tensor_type=DT_STRING, _device=\"/job:localhost/replica:0/task:0/device:GPU:0\"]()]]",
      "\nDuring handling of the above exception, another exception occurred:\n",
      "\u001b[1;31mInvalidArgumentError\u001b[0m                      Traceback (most recent call last)",
      "\u001b[1;32m<ipython-input-40-abffdf2a80a5>\u001b[0m in \u001b[0;36m<module>\u001b[1;34m\u001b[0m\n\u001b[0;32m     58\u001b[0m \u001b[1;33m\u001b[0m\u001b[0m\n\u001b[0;32m     59\u001b[0m         \u001b[1;31m# Currently only a single Eval Spec is allowed.\u001b[0m\u001b[1;33m\u001b[0m\u001b[1;33m\u001b[0m\u001b[1;33m\u001b[0m\u001b[0m\n\u001b[1;32m---> 60\u001b[1;33m         \u001b[0mtf\u001b[0m\u001b[1;33m.\u001b[0m\u001b[0mestimator\u001b[0m\u001b[1;33m.\u001b[0m\u001b[0mtrain_and_evaluate\u001b[0m\u001b[1;33m(\u001b[0m\u001b[0mestimator\u001b[0m\u001b[1;33m,\u001b[0m \u001b[0mtrain_spec\u001b[0m\u001b[1;33m,\u001b[0m \u001b[0meval_specs\u001b[0m\u001b[1;33m[\u001b[0m\u001b[1;36m0\u001b[0m\u001b[1;33m]\u001b[0m\u001b[1;33m)\u001b[0m\u001b[1;33m\u001b[0m\u001b[1;33m\u001b[0m\u001b[0m\n\u001b[0m\u001b[0;32m     61\u001b[0m \u001b[1;33m\u001b[0m\u001b[0m\n\u001b[0;32m     62\u001b[0m \u001b[1;33m\u001b[0m\u001b[0m\n",
      "\u001b[1;32mC:\\Anaconda3\\envs\\tensorflowGPU\\lib\\site-packages\\tensorflow\\python\\estimator\\training.py\u001b[0m in \u001b[0;36mtrain_and_evaluate\u001b[1;34m(estimator, train_spec, eval_spec)\u001b[0m\n\u001b[0;32m    469\u001b[0m         '(with task id 0).  Given task id {}'.format(config.task_id))\n\u001b[0;32m    470\u001b[0m \u001b[1;33m\u001b[0m\u001b[0m\n\u001b[1;32m--> 471\u001b[1;33m   \u001b[1;32mreturn\u001b[0m \u001b[0mexecutor\u001b[0m\u001b[1;33m.\u001b[0m\u001b[0mrun\u001b[0m\u001b[1;33m(\u001b[0m\u001b[1;33m)\u001b[0m\u001b[1;33m\u001b[0m\u001b[1;33m\u001b[0m\u001b[0m\n\u001b[0m\u001b[0;32m    472\u001b[0m \u001b[1;33m\u001b[0m\u001b[0m\n\u001b[0;32m    473\u001b[0m \u001b[1;33m\u001b[0m\u001b[0m\n",
      "\u001b[1;32mC:\\Anaconda3\\envs\\tensorflowGPU\\lib\\site-packages\\tensorflow\\python\\estimator\\training.py\u001b[0m in \u001b[0;36mrun\u001b[1;34m(self)\u001b[0m\n\u001b[0;32m    608\u001b[0m         config.task_type != run_config_lib.TaskType.EVALUATOR):\n\u001b[0;32m    609\u001b[0m       \u001b[0mlogging\u001b[0m\u001b[1;33m.\u001b[0m\u001b[0minfo\u001b[0m\u001b[1;33m(\u001b[0m\u001b[1;34m'Running training and evaluation locally (non-distributed).'\u001b[0m\u001b[1;33m)\u001b[0m\u001b[1;33m\u001b[0m\u001b[1;33m\u001b[0m\u001b[0m\n\u001b[1;32m--> 610\u001b[1;33m       \u001b[1;32mreturn\u001b[0m \u001b[0mself\u001b[0m\u001b[1;33m.\u001b[0m\u001b[0mrun_local\u001b[0m\u001b[1;33m(\u001b[0m\u001b[1;33m)\u001b[0m\u001b[1;33m\u001b[0m\u001b[1;33m\u001b[0m\u001b[0m\n\u001b[0m\u001b[0;32m    611\u001b[0m \u001b[1;33m\u001b[0m\u001b[0m\n\u001b[0;32m    612\u001b[0m     \u001b[1;31m# Distributed case.\u001b[0m\u001b[1;33m\u001b[0m\u001b[1;33m\u001b[0m\u001b[1;33m\u001b[0m\u001b[0m\n",
      "\u001b[1;32mC:\\Anaconda3\\envs\\tensorflowGPU\\lib\\site-packages\\tensorflow\\python\\estimator\\training.py\u001b[0m in \u001b[0;36mrun_local\u001b[1;34m(self)\u001b[0m\n\u001b[0;32m    709\u001b[0m         \u001b[0mmax_steps\u001b[0m\u001b[1;33m=\u001b[0m\u001b[0mself\u001b[0m\u001b[1;33m.\u001b[0m\u001b[0m_train_spec\u001b[0m\u001b[1;33m.\u001b[0m\u001b[0mmax_steps\u001b[0m\u001b[1;33m,\u001b[0m\u001b[1;33m\u001b[0m\u001b[1;33m\u001b[0m\u001b[0m\n\u001b[0;32m    710\u001b[0m         \u001b[0mhooks\u001b[0m\u001b[1;33m=\u001b[0m\u001b[0mtrain_hooks\u001b[0m\u001b[1;33m,\u001b[0m\u001b[1;33m\u001b[0m\u001b[1;33m\u001b[0m\u001b[0m\n\u001b[1;32m--> 711\u001b[1;33m         saving_listeners=saving_listeners)\n\u001b[0m\u001b[0;32m    712\u001b[0m \u001b[1;33m\u001b[0m\u001b[0m\n\u001b[0;32m    713\u001b[0m     eval_result = listener_for_eval.eval_result or _EvalResult(\n",
      "\u001b[1;32mC:\\Anaconda3\\envs\\tensorflowGPU\\lib\\site-packages\\tensorflow\\python\\estimator\\estimator.py\u001b[0m in \u001b[0;36mtrain\u001b[1;34m(self, input_fn, hooks, steps, max_steps, saving_listeners)\u001b[0m\n\u001b[0;32m    352\u001b[0m \u001b[1;33m\u001b[0m\u001b[0m\n\u001b[0;32m    353\u001b[0m       \u001b[0msaving_listeners\u001b[0m \u001b[1;33m=\u001b[0m \u001b[0m_check_listeners_type\u001b[0m\u001b[1;33m(\u001b[0m\u001b[0msaving_listeners\u001b[0m\u001b[1;33m)\u001b[0m\u001b[1;33m\u001b[0m\u001b[1;33m\u001b[0m\u001b[0m\n\u001b[1;32m--> 354\u001b[1;33m       \u001b[0mloss\u001b[0m \u001b[1;33m=\u001b[0m \u001b[0mself\u001b[0m\u001b[1;33m.\u001b[0m\u001b[0m_train_model\u001b[0m\u001b[1;33m(\u001b[0m\u001b[0minput_fn\u001b[0m\u001b[1;33m,\u001b[0m \u001b[0mhooks\u001b[0m\u001b[1;33m,\u001b[0m \u001b[0msaving_listeners\u001b[0m\u001b[1;33m)\u001b[0m\u001b[1;33m\u001b[0m\u001b[1;33m\u001b[0m\u001b[0m\n\u001b[0m\u001b[0;32m    355\u001b[0m       \u001b[0mlogging\u001b[0m\u001b[1;33m.\u001b[0m\u001b[0minfo\u001b[0m\u001b[1;33m(\u001b[0m\u001b[1;34m'Loss for final step: %s.'\u001b[0m\u001b[1;33m,\u001b[0m \u001b[0mloss\u001b[0m\u001b[1;33m)\u001b[0m\u001b[1;33m\u001b[0m\u001b[1;33m\u001b[0m\u001b[0m\n\u001b[0;32m    356\u001b[0m       \u001b[1;32mreturn\u001b[0m \u001b[0mself\u001b[0m\u001b[1;33m\u001b[0m\u001b[1;33m\u001b[0m\u001b[0m\n",
      "\u001b[1;32mC:\\Anaconda3\\envs\\tensorflowGPU\\lib\\site-packages\\tensorflow\\python\\estimator\\estimator.py\u001b[0m in \u001b[0;36m_train_model\u001b[1;34m(self, input_fn, hooks, saving_listeners)\u001b[0m\n\u001b[0;32m   1205\u001b[0m       \u001b[1;32mreturn\u001b[0m \u001b[0mself\u001b[0m\u001b[1;33m.\u001b[0m\u001b[0m_train_model_distributed\u001b[0m\u001b[1;33m(\u001b[0m\u001b[0minput_fn\u001b[0m\u001b[1;33m,\u001b[0m \u001b[0mhooks\u001b[0m\u001b[1;33m,\u001b[0m \u001b[0msaving_listeners\u001b[0m\u001b[1;33m)\u001b[0m\u001b[1;33m\u001b[0m\u001b[1;33m\u001b[0m\u001b[0m\n\u001b[0;32m   1206\u001b[0m     \u001b[1;32melse\u001b[0m\u001b[1;33m:\u001b[0m\u001b[1;33m\u001b[0m\u001b[1;33m\u001b[0m\u001b[0m\n\u001b[1;32m-> 1207\u001b[1;33m       \u001b[1;32mreturn\u001b[0m \u001b[0mself\u001b[0m\u001b[1;33m.\u001b[0m\u001b[0m_train_model_default\u001b[0m\u001b[1;33m(\u001b[0m\u001b[0minput_fn\u001b[0m\u001b[1;33m,\u001b[0m \u001b[0mhooks\u001b[0m\u001b[1;33m,\u001b[0m \u001b[0msaving_listeners\u001b[0m\u001b[1;33m)\u001b[0m\u001b[1;33m\u001b[0m\u001b[1;33m\u001b[0m\u001b[0m\n\u001b[0m\u001b[0;32m   1208\u001b[0m \u001b[1;33m\u001b[0m\u001b[0m\n\u001b[0;32m   1209\u001b[0m   \u001b[1;32mdef\u001b[0m \u001b[0m_train_model_default\u001b[0m\u001b[1;33m(\u001b[0m\u001b[0mself\u001b[0m\u001b[1;33m,\u001b[0m \u001b[0minput_fn\u001b[0m\u001b[1;33m,\u001b[0m \u001b[0mhooks\u001b[0m\u001b[1;33m,\u001b[0m \u001b[0msaving_listeners\u001b[0m\u001b[1;33m)\u001b[0m\u001b[1;33m:\u001b[0m\u001b[1;33m\u001b[0m\u001b[1;33m\u001b[0m\u001b[0m\n",
      "\u001b[1;32mC:\\Anaconda3\\envs\\tensorflowGPU\\lib\\site-packages\\tensorflow\\python\\estimator\\estimator.py\u001b[0m in \u001b[0;36m_train_model_default\u001b[1;34m(self, input_fn, hooks, saving_listeners)\u001b[0m\n\u001b[0;32m   1239\u001b[0m       return self._train_with_estimator_spec(estimator_spec, worker_hooks,\n\u001b[0;32m   1240\u001b[0m                                              \u001b[0mhooks\u001b[0m\u001b[1;33m,\u001b[0m \u001b[0mglobal_step_tensor\u001b[0m\u001b[1;33m,\u001b[0m\u001b[1;33m\u001b[0m\u001b[1;33m\u001b[0m\u001b[0m\n\u001b[1;32m-> 1241\u001b[1;33m                                              saving_listeners)\n\u001b[0m\u001b[0;32m   1242\u001b[0m \u001b[1;33m\u001b[0m\u001b[0m\n\u001b[0;32m   1243\u001b[0m   \u001b[1;32mdef\u001b[0m \u001b[0m_train_model_distributed\u001b[0m\u001b[1;33m(\u001b[0m\u001b[0mself\u001b[0m\u001b[1;33m,\u001b[0m \u001b[0minput_fn\u001b[0m\u001b[1;33m,\u001b[0m \u001b[0mhooks\u001b[0m\u001b[1;33m,\u001b[0m \u001b[0msaving_listeners\u001b[0m\u001b[1;33m)\u001b[0m\u001b[1;33m:\u001b[0m\u001b[1;33m\u001b[0m\u001b[1;33m\u001b[0m\u001b[0m\n",
      "\u001b[1;32mC:\\Anaconda3\\envs\\tensorflowGPU\\lib\\site-packages\\tensorflow\\python\\estimator\\estimator.py\u001b[0m in \u001b[0;36m_train_with_estimator_spec\u001b[1;34m(self, estimator_spec, worker_hooks, hooks, global_step_tensor, saving_listeners)\u001b[0m\n\u001b[0;32m   1469\u001b[0m       \u001b[0mloss\u001b[0m \u001b[1;33m=\u001b[0m \u001b[1;32mNone\u001b[0m\u001b[1;33m\u001b[0m\u001b[1;33m\u001b[0m\u001b[0m\n\u001b[0;32m   1470\u001b[0m       \u001b[1;32mwhile\u001b[0m \u001b[1;32mnot\u001b[0m \u001b[0mmon_sess\u001b[0m\u001b[1;33m.\u001b[0m\u001b[0mshould_stop\u001b[0m\u001b[1;33m(\u001b[0m\u001b[1;33m)\u001b[0m\u001b[1;33m:\u001b[0m\u001b[1;33m\u001b[0m\u001b[1;33m\u001b[0m\u001b[0m\n\u001b[1;32m-> 1471\u001b[1;33m         \u001b[0m_\u001b[0m\u001b[1;33m,\u001b[0m \u001b[0mloss\u001b[0m \u001b[1;33m=\u001b[0m \u001b[0mmon_sess\u001b[0m\u001b[1;33m.\u001b[0m\u001b[0mrun\u001b[0m\u001b[1;33m(\u001b[0m\u001b[1;33m[\u001b[0m\u001b[0mestimator_spec\u001b[0m\u001b[1;33m.\u001b[0m\u001b[0mtrain_op\u001b[0m\u001b[1;33m,\u001b[0m \u001b[0mestimator_spec\u001b[0m\u001b[1;33m.\u001b[0m\u001b[0mloss\u001b[0m\u001b[1;33m]\u001b[0m\u001b[1;33m)\u001b[0m\u001b[1;33m\u001b[0m\u001b[1;33m\u001b[0m\u001b[0m\n\u001b[0m\u001b[0;32m   1472\u001b[0m     \u001b[1;32mreturn\u001b[0m \u001b[0mloss\u001b[0m\u001b[1;33m\u001b[0m\u001b[1;33m\u001b[0m\u001b[0m\n\u001b[0;32m   1473\u001b[0m \u001b[1;33m\u001b[0m\u001b[0m\n",
      "\u001b[1;32mC:\\Anaconda3\\envs\\tensorflowGPU\\lib\\site-packages\\tensorflow\\python\\training\\monitored_session.py\u001b[0m in \u001b[0;36mrun\u001b[1;34m(self, fetches, feed_dict, options, run_metadata)\u001b[0m\n\u001b[0;32m    669\u001b[0m                           \u001b[0mfeed_dict\u001b[0m\u001b[1;33m=\u001b[0m\u001b[0mfeed_dict\u001b[0m\u001b[1;33m,\u001b[0m\u001b[1;33m\u001b[0m\u001b[1;33m\u001b[0m\u001b[0m\n\u001b[0;32m    670\u001b[0m                           \u001b[0moptions\u001b[0m\u001b[1;33m=\u001b[0m\u001b[0moptions\u001b[0m\u001b[1;33m,\u001b[0m\u001b[1;33m\u001b[0m\u001b[1;33m\u001b[0m\u001b[0m\n\u001b[1;32m--> 671\u001b[1;33m                           run_metadata=run_metadata)\n\u001b[0m\u001b[0;32m    672\u001b[0m \u001b[1;33m\u001b[0m\u001b[0m\n\u001b[0;32m    673\u001b[0m   \u001b[1;32mdef\u001b[0m \u001b[0mrun_step_fn\u001b[0m\u001b[1;33m(\u001b[0m\u001b[0mself\u001b[0m\u001b[1;33m,\u001b[0m \u001b[0mstep_fn\u001b[0m\u001b[1;33m)\u001b[0m\u001b[1;33m:\u001b[0m\u001b[1;33m\u001b[0m\u001b[1;33m\u001b[0m\u001b[0m\n",
      "\u001b[1;32mC:\\Anaconda3\\envs\\tensorflowGPU\\lib\\site-packages\\tensorflow\\python\\training\\monitored_session.py\u001b[0m in \u001b[0;36mrun\u001b[1;34m(self, fetches, feed_dict, options, run_metadata)\u001b[0m\n\u001b[0;32m   1154\u001b[0m                               \u001b[0mfeed_dict\u001b[0m\u001b[1;33m=\u001b[0m\u001b[0mfeed_dict\u001b[0m\u001b[1;33m,\u001b[0m\u001b[1;33m\u001b[0m\u001b[1;33m\u001b[0m\u001b[0m\n\u001b[0;32m   1155\u001b[0m                               \u001b[0moptions\u001b[0m\u001b[1;33m=\u001b[0m\u001b[0moptions\u001b[0m\u001b[1;33m,\u001b[0m\u001b[1;33m\u001b[0m\u001b[1;33m\u001b[0m\u001b[0m\n\u001b[1;32m-> 1156\u001b[1;33m                               run_metadata=run_metadata)\n\u001b[0m\u001b[0;32m   1157\u001b[0m       \u001b[1;32mexcept\u001b[0m \u001b[0m_PREEMPTION_ERRORS\u001b[0m \u001b[1;32mas\u001b[0m \u001b[0me\u001b[0m\u001b[1;33m:\u001b[0m\u001b[1;33m\u001b[0m\u001b[1;33m\u001b[0m\u001b[0m\n\u001b[0;32m   1158\u001b[0m         logging.info('An error was raised. This may be due to a preemption in '\n",
      "\u001b[1;32mC:\\Anaconda3\\envs\\tensorflowGPU\\lib\\site-packages\\tensorflow\\python\\training\\monitored_session.py\u001b[0m in \u001b[0;36mrun\u001b[1;34m(self, *args, **kwargs)\u001b[0m\n\u001b[0;32m   1253\u001b[0m         \u001b[1;32mraise\u001b[0m \u001b[0msix\u001b[0m\u001b[1;33m.\u001b[0m\u001b[0mreraise\u001b[0m\u001b[1;33m(\u001b[0m\u001b[1;33m*\u001b[0m\u001b[0moriginal_exc_info\u001b[0m\u001b[1;33m)\u001b[0m\u001b[1;33m\u001b[0m\u001b[1;33m\u001b[0m\u001b[0m\n\u001b[0;32m   1254\u001b[0m       \u001b[1;32melse\u001b[0m\u001b[1;33m:\u001b[0m\u001b[1;33m\u001b[0m\u001b[1;33m\u001b[0m\u001b[0m\n\u001b[1;32m-> 1255\u001b[1;33m         \u001b[1;32mraise\u001b[0m \u001b[0msix\u001b[0m\u001b[1;33m.\u001b[0m\u001b[0mreraise\u001b[0m\u001b[1;33m(\u001b[0m\u001b[1;33m*\u001b[0m\u001b[0moriginal_exc_info\u001b[0m\u001b[1;33m)\u001b[0m\u001b[1;33m\u001b[0m\u001b[1;33m\u001b[0m\u001b[0m\n\u001b[0m\u001b[0;32m   1256\u001b[0m \u001b[1;33m\u001b[0m\u001b[0m\n\u001b[0;32m   1257\u001b[0m \u001b[1;33m\u001b[0m\u001b[0m\n",
      "\u001b[1;32mC:\\Anaconda3\\envs\\tensorflowGPU\\lib\\site-packages\\six.py\u001b[0m in \u001b[0;36mreraise\u001b[1;34m(tp, value, tb)\u001b[0m\n\u001b[0;32m    691\u001b[0m             \u001b[1;32mif\u001b[0m \u001b[0mvalue\u001b[0m\u001b[1;33m.\u001b[0m\u001b[0m__traceback__\u001b[0m \u001b[1;32mis\u001b[0m \u001b[1;32mnot\u001b[0m \u001b[0mtb\u001b[0m\u001b[1;33m:\u001b[0m\u001b[1;33m\u001b[0m\u001b[1;33m\u001b[0m\u001b[0m\n\u001b[0;32m    692\u001b[0m                 \u001b[1;32mraise\u001b[0m \u001b[0mvalue\u001b[0m\u001b[1;33m.\u001b[0m\u001b[0mwith_traceback\u001b[0m\u001b[1;33m(\u001b[0m\u001b[0mtb\u001b[0m\u001b[1;33m)\u001b[0m\u001b[1;33m\u001b[0m\u001b[1;33m\u001b[0m\u001b[0m\n\u001b[1;32m--> 693\u001b[1;33m             \u001b[1;32mraise\u001b[0m \u001b[0mvalue\u001b[0m\u001b[1;33m\u001b[0m\u001b[1;33m\u001b[0m\u001b[0m\n\u001b[0m\u001b[0;32m    694\u001b[0m         \u001b[1;32mfinally\u001b[0m\u001b[1;33m:\u001b[0m\u001b[1;33m\u001b[0m\u001b[1;33m\u001b[0m\u001b[0m\n\u001b[0;32m    695\u001b[0m             \u001b[0mvalue\u001b[0m \u001b[1;33m=\u001b[0m \u001b[1;32mNone\u001b[0m\u001b[1;33m\u001b[0m\u001b[1;33m\u001b[0m\u001b[0m\n",
      "\u001b[1;32mC:\\Anaconda3\\envs\\tensorflowGPU\\lib\\site-packages\\tensorflow\\python\\training\\monitored_session.py\u001b[0m in \u001b[0;36mrun\u001b[1;34m(self, *args, **kwargs)\u001b[0m\n\u001b[0;32m   1238\u001b[0m   \u001b[1;32mdef\u001b[0m \u001b[0mrun\u001b[0m\u001b[1;33m(\u001b[0m\u001b[0mself\u001b[0m\u001b[1;33m,\u001b[0m \u001b[1;33m*\u001b[0m\u001b[0margs\u001b[0m\u001b[1;33m,\u001b[0m \u001b[1;33m**\u001b[0m\u001b[0mkwargs\u001b[0m\u001b[1;33m)\u001b[0m\u001b[1;33m:\u001b[0m\u001b[1;33m\u001b[0m\u001b[1;33m\u001b[0m\u001b[0m\n\u001b[0;32m   1239\u001b[0m     \u001b[1;32mtry\u001b[0m\u001b[1;33m:\u001b[0m\u001b[1;33m\u001b[0m\u001b[1;33m\u001b[0m\u001b[0m\n\u001b[1;32m-> 1240\u001b[1;33m       \u001b[1;32mreturn\u001b[0m \u001b[0mself\u001b[0m\u001b[1;33m.\u001b[0m\u001b[0m_sess\u001b[0m\u001b[1;33m.\u001b[0m\u001b[0mrun\u001b[0m\u001b[1;33m(\u001b[0m\u001b[1;33m*\u001b[0m\u001b[0margs\u001b[0m\u001b[1;33m,\u001b[0m \u001b[1;33m**\u001b[0m\u001b[0mkwargs\u001b[0m\u001b[1;33m)\u001b[0m\u001b[1;33m\u001b[0m\u001b[1;33m\u001b[0m\u001b[0m\n\u001b[0m\u001b[0;32m   1241\u001b[0m     \u001b[1;32mexcept\u001b[0m \u001b[0m_PREEMPTION_ERRORS\u001b[0m\u001b[1;33m:\u001b[0m\u001b[1;33m\u001b[0m\u001b[1;33m\u001b[0m\u001b[0m\n\u001b[0;32m   1242\u001b[0m       \u001b[1;32mraise\u001b[0m\u001b[1;33m\u001b[0m\u001b[1;33m\u001b[0m\u001b[0m\n",
      "\u001b[1;32mC:\\Anaconda3\\envs\\tensorflowGPU\\lib\\site-packages\\tensorflow\\python\\training\\monitored_session.py\u001b[0m in \u001b[0;36mrun\u001b[1;34m(self, fetches, feed_dict, options, run_metadata)\u001b[0m\n\u001b[0;32m   1318\u001b[0m               \u001b[0mresults\u001b[0m\u001b[1;33m=\u001b[0m\u001b[0moutputs\u001b[0m\u001b[1;33m[\u001b[0m\u001b[0mhook\u001b[0m\u001b[1;33m]\u001b[0m \u001b[1;32mif\u001b[0m \u001b[0mhook\u001b[0m \u001b[1;32min\u001b[0m \u001b[0moutputs\u001b[0m \u001b[1;32melse\u001b[0m \u001b[1;32mNone\u001b[0m\u001b[1;33m,\u001b[0m\u001b[1;33m\u001b[0m\u001b[1;33m\u001b[0m\u001b[0m\n\u001b[0;32m   1319\u001b[0m               \u001b[0moptions\u001b[0m\u001b[1;33m=\u001b[0m\u001b[0moptions\u001b[0m\u001b[1;33m,\u001b[0m\u001b[1;33m\u001b[0m\u001b[1;33m\u001b[0m\u001b[0m\n\u001b[1;32m-> 1320\u001b[1;33m               run_metadata=run_metadata))\n\u001b[0m\u001b[0;32m   1321\u001b[0m     \u001b[0mself\u001b[0m\u001b[1;33m.\u001b[0m\u001b[0m_should_stop\u001b[0m \u001b[1;33m=\u001b[0m \u001b[0mself\u001b[0m\u001b[1;33m.\u001b[0m\u001b[0m_should_stop\u001b[0m \u001b[1;32mor\u001b[0m \u001b[0mrun_context\u001b[0m\u001b[1;33m.\u001b[0m\u001b[0mstop_requested\u001b[0m\u001b[1;33m\u001b[0m\u001b[1;33m\u001b[0m\u001b[0m\n\u001b[0;32m   1322\u001b[0m \u001b[1;33m\u001b[0m\u001b[0m\n",
      "\u001b[1;32mC:\\Anaconda3\\envs\\tensorflowGPU\\lib\\site-packages\\tensorflow\\python\\training\\basic_session_run_hooks.py\u001b[0m in \u001b[0;36mafter_run\u001b[1;34m(self, run_context, run_values)\u001b[0m\n\u001b[0;32m    580\u001b[0m       \u001b[1;32mif\u001b[0m \u001b[0mself\u001b[0m\u001b[1;33m.\u001b[0m\u001b[0m_timer\u001b[0m\u001b[1;33m.\u001b[0m\u001b[0mshould_trigger_for_step\u001b[0m\u001b[1;33m(\u001b[0m\u001b[0mglobal_step\u001b[0m\u001b[1;33m)\u001b[0m\u001b[1;33m:\u001b[0m\u001b[1;33m\u001b[0m\u001b[1;33m\u001b[0m\u001b[0m\n\u001b[0;32m    581\u001b[0m         \u001b[0mself\u001b[0m\u001b[1;33m.\u001b[0m\u001b[0m_timer\u001b[0m\u001b[1;33m.\u001b[0m\u001b[0mupdate_last_triggered_step\u001b[0m\u001b[1;33m(\u001b[0m\u001b[0mglobal_step\u001b[0m\u001b[1;33m)\u001b[0m\u001b[1;33m\u001b[0m\u001b[1;33m\u001b[0m\u001b[0m\n\u001b[1;32m--> 582\u001b[1;33m         \u001b[1;32mif\u001b[0m \u001b[0mself\u001b[0m\u001b[1;33m.\u001b[0m\u001b[0m_save\u001b[0m\u001b[1;33m(\u001b[0m\u001b[0mrun_context\u001b[0m\u001b[1;33m.\u001b[0m\u001b[0msession\u001b[0m\u001b[1;33m,\u001b[0m \u001b[0mglobal_step\u001b[0m\u001b[1;33m)\u001b[0m\u001b[1;33m:\u001b[0m\u001b[1;33m\u001b[0m\u001b[1;33m\u001b[0m\u001b[0m\n\u001b[0m\u001b[0;32m    583\u001b[0m           \u001b[0mrun_context\u001b[0m\u001b[1;33m.\u001b[0m\u001b[0mrequest_stop\u001b[0m\u001b[1;33m(\u001b[0m\u001b[1;33m)\u001b[0m\u001b[1;33m\u001b[0m\u001b[1;33m\u001b[0m\u001b[0m\n\u001b[0;32m    584\u001b[0m \u001b[1;33m\u001b[0m\u001b[0m\n",
      "\u001b[1;32mC:\\Anaconda3\\envs\\tensorflowGPU\\lib\\site-packages\\tensorflow\\python\\training\\basic_session_run_hooks.py\u001b[0m in \u001b[0;36m_save\u001b[1;34m(self, session, step)\u001b[0m\n\u001b[0;32m    605\u001b[0m     \u001b[0mshould_stop\u001b[0m \u001b[1;33m=\u001b[0m \u001b[1;32mFalse\u001b[0m\u001b[1;33m\u001b[0m\u001b[1;33m\u001b[0m\u001b[0m\n\u001b[0;32m    606\u001b[0m     \u001b[1;32mfor\u001b[0m \u001b[0ml\u001b[0m \u001b[1;32min\u001b[0m \u001b[0mself\u001b[0m\u001b[1;33m.\u001b[0m\u001b[0m_listeners\u001b[0m\u001b[1;33m:\u001b[0m\u001b[1;33m\u001b[0m\u001b[1;33m\u001b[0m\u001b[0m\n\u001b[1;32m--> 607\u001b[1;33m       \u001b[1;32mif\u001b[0m \u001b[0ml\u001b[0m\u001b[1;33m.\u001b[0m\u001b[0mafter_save\u001b[0m\u001b[1;33m(\u001b[0m\u001b[0msession\u001b[0m\u001b[1;33m,\u001b[0m \u001b[0mstep\u001b[0m\u001b[1;33m)\u001b[0m\u001b[1;33m:\u001b[0m\u001b[1;33m\u001b[0m\u001b[1;33m\u001b[0m\u001b[0m\n\u001b[0m\u001b[0;32m    608\u001b[0m         logging.info(\n\u001b[0;32m    609\u001b[0m             \u001b[1;34m\"A CheckpointSaverListener requested that training be stopped. \"\u001b[0m\u001b[1;33m\u001b[0m\u001b[1;33m\u001b[0m\u001b[0m\n",
      "\u001b[1;32mC:\\Anaconda3\\envs\\tensorflowGPU\\lib\\site-packages\\tensorflow\\python\\estimator\\training.py\u001b[0m in \u001b[0;36mafter_save\u001b[1;34m(***failed resolving arguments***)\u001b[0m\n\u001b[0;32m    515\u001b[0m       \u001b[1;32mreturn\u001b[0m \u001b[1;32mTrue\u001b[0m\u001b[1;33m\u001b[0m\u001b[1;33m\u001b[0m\u001b[0m\n\u001b[0;32m    516\u001b[0m     \u001b[1;32mif\u001b[0m \u001b[0mself\u001b[0m\u001b[1;33m.\u001b[0m\u001b[0m_timer\u001b[0m\u001b[1;33m.\u001b[0m\u001b[0mshould_trigger_for_step\u001b[0m\u001b[1;33m(\u001b[0m\u001b[0mglobal_step_value\u001b[0m\u001b[1;33m)\u001b[0m\u001b[1;33m:\u001b[0m\u001b[1;33m\u001b[0m\u001b[1;33m\u001b[0m\u001b[0m\n\u001b[1;32m--> 517\u001b[1;33m       \u001b[0mself\u001b[0m\u001b[1;33m.\u001b[0m\u001b[0m_evaluate\u001b[0m\u001b[1;33m(\u001b[0m\u001b[0mglobal_step_value\u001b[0m\u001b[1;33m)\u001b[0m  \u001b[1;31m# updates self.eval_result\u001b[0m\u001b[1;33m\u001b[0m\u001b[1;33m\u001b[0m\u001b[0m\n\u001b[0m\u001b[0;32m    518\u001b[0m       \u001b[1;32mif\u001b[0m \u001b[1;32mnot\u001b[0m \u001b[0mself\u001b[0m\u001b[1;33m.\u001b[0m\u001b[0m_continuous_eval_listener\u001b[0m\u001b[1;33m.\u001b[0m\u001b[0mafter_eval\u001b[0m\u001b[1;33m(\u001b[0m\u001b[0mself\u001b[0m\u001b[1;33m.\u001b[0m\u001b[0meval_result\u001b[0m\u001b[1;33m)\u001b[0m\u001b[1;33m:\u001b[0m\u001b[1;33m\u001b[0m\u001b[1;33m\u001b[0m\u001b[0m\n\u001b[0;32m    519\u001b[0m         logging.info('Exiting evaluation, as requested by '\n",
      "\u001b[1;32mC:\\Anaconda3\\envs\\tensorflowGPU\\lib\\site-packages\\tensorflow\\python\\estimator\\training.py\u001b[0m in \u001b[0;36m_evaluate\u001b[1;34m(self, global_step_value)\u001b[0m\n\u001b[0;32m    535\u001b[0m     \u001b[0mself\u001b[0m\u001b[1;33m.\u001b[0m\u001b[0m_timer\u001b[0m\u001b[1;33m.\u001b[0m\u001b[0mupdate_last_triggered_step\u001b[0m\u001b[1;33m(\u001b[0m\u001b[0mglobal_step_value\u001b[0m\u001b[1;33m)\u001b[0m\u001b[1;33m\u001b[0m\u001b[1;33m\u001b[0m\u001b[0m\n\u001b[0;32m    536\u001b[0m     self.eval_result, self.export_results = (\n\u001b[1;32m--> 537\u001b[1;33m         self._evaluator.evaluate_and_export())\n\u001b[0m\u001b[0;32m    538\u001b[0m     \u001b[1;32mif\u001b[0m \u001b[0mself\u001b[0m\u001b[1;33m.\u001b[0m\u001b[0meval_result\u001b[0m\u001b[1;33m.\u001b[0m\u001b[0mstatus\u001b[0m \u001b[1;33m!=\u001b[0m \u001b[0m_EvalStatus\u001b[0m\u001b[1;33m.\u001b[0m\u001b[0mEVALUATED\u001b[0m\u001b[1;33m:\u001b[0m\u001b[1;33m\u001b[0m\u001b[1;33m\u001b[0m\u001b[0m\n\u001b[0;32m    539\u001b[0m       \u001b[1;31m#  This is unexpected; should never happen.\u001b[0m\u001b[1;33m\u001b[0m\u001b[1;33m\u001b[0m\u001b[1;33m\u001b[0m\u001b[0m\n",
      "\u001b[1;32mC:\\Anaconda3\\envs\\tensorflowGPU\\lib\\site-packages\\tensorflow\\python\\estimator\\training.py\u001b[0m in \u001b[0;36mevaluate_and_export\u001b[1;34m(self)\u001b[0m\n\u001b[0;32m    910\u001b[0m           \u001b[0mname\u001b[0m\u001b[1;33m=\u001b[0m\u001b[0mself\u001b[0m\u001b[1;33m.\u001b[0m\u001b[0m_eval_spec\u001b[0m\u001b[1;33m.\u001b[0m\u001b[0mname\u001b[0m\u001b[1;33m,\u001b[0m\u001b[1;33m\u001b[0m\u001b[1;33m\u001b[0m\u001b[0m\n\u001b[0;32m    911\u001b[0m           \u001b[0mcheckpoint_path\u001b[0m\u001b[1;33m=\u001b[0m\u001b[0mlatest_ckpt_path\u001b[0m\u001b[1;33m,\u001b[0m\u001b[1;33m\u001b[0m\u001b[1;33m\u001b[0m\u001b[0m\n\u001b[1;32m--> 912\u001b[1;33m           hooks=self._eval_spec.hooks)\n\u001b[0m\u001b[0;32m    913\u001b[0m \u001b[1;33m\u001b[0m\u001b[0m\n\u001b[0;32m    914\u001b[0m       \u001b[1;31m# _EvalResult validates the metrics.\u001b[0m\u001b[1;33m\u001b[0m\u001b[1;33m\u001b[0m\u001b[1;33m\u001b[0m\u001b[0m\n",
      "\u001b[1;32mC:\\Anaconda3\\envs\\tensorflowGPU\\lib\\site-packages\\tensorflow\\python\\estimator\\estimator.py\u001b[0m in \u001b[0;36mevaluate\u001b[1;34m(self, input_fn, steps, hooks, checkpoint_path, name)\u001b[0m\n\u001b[0;32m    476\u001b[0m             \u001b[1;32mreturn\u001b[0m \u001b[0m_evaluate\u001b[0m\u001b[1;33m(\u001b[0m\u001b[1;33m)\u001b[0m\u001b[1;33m\u001b[0m\u001b[1;33m\u001b[0m\u001b[0m\n\u001b[0;32m    477\u001b[0m         \u001b[1;32melse\u001b[0m\u001b[1;33m:\u001b[0m\u001b[1;33m\u001b[0m\u001b[1;33m\u001b[0m\u001b[0m\n\u001b[1;32m--> 478\u001b[1;33m           \u001b[1;32mreturn\u001b[0m \u001b[0m_evaluate\u001b[0m\u001b[1;33m(\u001b[0m\u001b[1;33m)\u001b[0m\u001b[1;33m\u001b[0m\u001b[1;33m\u001b[0m\u001b[0m\n\u001b[0m\u001b[0;32m    479\u001b[0m \u001b[1;33m\u001b[0m\u001b[0m\n\u001b[0;32m    480\u001b[0m   \u001b[1;32mdef\u001b[0m \u001b[0m_convert_eval_steps_to_hooks\u001b[0m\u001b[1;33m(\u001b[0m\u001b[0mself\u001b[0m\u001b[1;33m,\u001b[0m \u001b[0msteps\u001b[0m\u001b[1;33m)\u001b[0m\u001b[1;33m:\u001b[0m\u001b[1;33m\u001b[0m\u001b[1;33m\u001b[0m\u001b[0m\n",
      "\u001b[1;32mC:\\Anaconda3\\envs\\tensorflowGPU\\lib\\site-packages\\tensorflow\\python\\estimator\\estimator.py\u001b[0m in \u001b[0;36m_evaluate\u001b[1;34m()\u001b[0m\n\u001b[0;32m    465\u001b[0m             \u001b[0meval_dict\u001b[0m\u001b[1;33m=\u001b[0m\u001b[0meval_dict\u001b[0m\u001b[1;33m,\u001b[0m\u001b[1;33m\u001b[0m\u001b[1;33m\u001b[0m\u001b[0m\n\u001b[0;32m    466\u001b[0m             \u001b[0mall_hooks\u001b[0m\u001b[1;33m=\u001b[0m\u001b[0mall_hooks\u001b[0m\u001b[1;33m,\u001b[0m\u001b[1;33m\u001b[0m\u001b[1;33m\u001b[0m\u001b[0m\n\u001b[1;32m--> 467\u001b[1;33m             output_dir=self.eval_dir(name))\n\u001b[0m\u001b[0;32m    468\u001b[0m \u001b[1;33m\u001b[0m\u001b[0m\n\u001b[0;32m    469\u001b[0m       \u001b[1;32mwith\u001b[0m \u001b[0mops\u001b[0m\u001b[1;33m.\u001b[0m\u001b[0mGraph\u001b[0m\u001b[1;33m(\u001b[0m\u001b[1;33m)\u001b[0m\u001b[1;33m.\u001b[0m\u001b[0mas_default\u001b[0m\u001b[1;33m(\u001b[0m\u001b[1;33m)\u001b[0m\u001b[1;33m:\u001b[0m\u001b[1;33m\u001b[0m\u001b[1;33m\u001b[0m\u001b[0m\n",
      "\u001b[1;32mC:\\Anaconda3\\envs\\tensorflowGPU\\lib\\site-packages\\tensorflow\\python\\estimator\\estimator.py\u001b[0m in \u001b[0;36m_evaluate_run\u001b[1;34m(self, checkpoint_path, scaffold, update_op, eval_dict, all_hooks, output_dir)\u001b[0m\n\u001b[0;32m   1589\u001b[0m         \u001b[0mfinal_ops\u001b[0m\u001b[1;33m=\u001b[0m\u001b[0meval_dict\u001b[0m\u001b[1;33m,\u001b[0m\u001b[1;33m\u001b[0m\u001b[1;33m\u001b[0m\u001b[0m\n\u001b[0;32m   1590\u001b[0m         \u001b[0mhooks\u001b[0m\u001b[1;33m=\u001b[0m\u001b[0mall_hooks\u001b[0m\u001b[1;33m,\u001b[0m\u001b[1;33m\u001b[0m\u001b[1;33m\u001b[0m\u001b[0m\n\u001b[1;32m-> 1591\u001b[1;33m         config=self._session_config)\n\u001b[0m\u001b[0;32m   1592\u001b[0m \u001b[1;33m\u001b[0m\u001b[0m\n\u001b[0;32m   1593\u001b[0m     \u001b[0mcurrent_global_step\u001b[0m \u001b[1;33m=\u001b[0m \u001b[0meval_results\u001b[0m\u001b[1;33m[\u001b[0m\u001b[0mops\u001b[0m\u001b[1;33m.\u001b[0m\u001b[0mGraphKeys\u001b[0m\u001b[1;33m.\u001b[0m\u001b[0mGLOBAL_STEP\u001b[0m\u001b[1;33m]\u001b[0m\u001b[1;33m\u001b[0m\u001b[1;33m\u001b[0m\u001b[0m\n",
      "\u001b[1;32mC:\\Anaconda3\\envs\\tensorflowGPU\\lib\\site-packages\\tensorflow\\python\\training\\evaluation.py\u001b[0m in \u001b[0;36m_evaluate_once\u001b[1;34m(checkpoint_path, master, scaffold, eval_ops, feed_dict, final_ops, final_ops_feed_dict, hooks, config)\u001b[0m\n\u001b[0;32m    272\u001b[0m     \u001b[1;32mif\u001b[0m \u001b[0meval_ops\u001b[0m \u001b[1;32mis\u001b[0m \u001b[1;32mnot\u001b[0m \u001b[1;32mNone\u001b[0m\u001b[1;33m:\u001b[0m\u001b[1;33m\u001b[0m\u001b[1;33m\u001b[0m\u001b[0m\n\u001b[0;32m    273\u001b[0m       \u001b[1;32mwhile\u001b[0m \u001b[1;32mnot\u001b[0m \u001b[0msession\u001b[0m\u001b[1;33m.\u001b[0m\u001b[0mshould_stop\u001b[0m\u001b[1;33m(\u001b[0m\u001b[1;33m)\u001b[0m\u001b[1;33m:\u001b[0m\u001b[1;33m\u001b[0m\u001b[1;33m\u001b[0m\u001b[0m\n\u001b[1;32m--> 274\u001b[1;33m         \u001b[0msession\u001b[0m\u001b[1;33m.\u001b[0m\u001b[0mrun\u001b[0m\u001b[1;33m(\u001b[0m\u001b[0meval_ops\u001b[0m\u001b[1;33m,\u001b[0m \u001b[0mfeed_dict\u001b[0m\u001b[1;33m)\u001b[0m\u001b[1;33m\u001b[0m\u001b[1;33m\u001b[0m\u001b[0m\n\u001b[0m\u001b[0;32m    275\u001b[0m \u001b[1;33m\u001b[0m\u001b[0m\n\u001b[0;32m    276\u001b[0m   logging.info('Finished evaluation at ' + time.strftime('%Y-%m-%d-%H:%M:%S',\n",
      "\u001b[1;32mC:\\Anaconda3\\envs\\tensorflowGPU\\lib\\site-packages\\tensorflow\\python\\training\\monitored_session.py\u001b[0m in \u001b[0;36m__exit__\u001b[1;34m(self, exception_type, exception_value, traceback)\u001b[0m\n\u001b[0;32m    781\u001b[0m     \u001b[1;32mif\u001b[0m \u001b[0mexception_type\u001b[0m \u001b[1;32min\u001b[0m \u001b[1;33m[\u001b[0m\u001b[0merrors\u001b[0m\u001b[1;33m.\u001b[0m\u001b[0mOutOfRangeError\u001b[0m\u001b[1;33m,\u001b[0m \u001b[0mStopIteration\u001b[0m\u001b[1;33m]\u001b[0m\u001b[1;33m:\u001b[0m\u001b[1;33m\u001b[0m\u001b[1;33m\u001b[0m\u001b[0m\n\u001b[0;32m    782\u001b[0m       \u001b[0mexception_type\u001b[0m \u001b[1;33m=\u001b[0m \u001b[1;32mNone\u001b[0m\u001b[1;33m\u001b[0m\u001b[1;33m\u001b[0m\u001b[0m\n\u001b[1;32m--> 783\u001b[1;33m     \u001b[0mself\u001b[0m\u001b[1;33m.\u001b[0m\u001b[0m_close_internal\u001b[0m\u001b[1;33m(\u001b[0m\u001b[0mexception_type\u001b[0m\u001b[1;33m)\u001b[0m\u001b[1;33m\u001b[0m\u001b[1;33m\u001b[0m\u001b[0m\n\u001b[0m\u001b[0;32m    784\u001b[0m     \u001b[1;31m# __exit__ should return True to suppress an exception.\u001b[0m\u001b[1;33m\u001b[0m\u001b[1;33m\u001b[0m\u001b[1;33m\u001b[0m\u001b[0m\n\u001b[0;32m    785\u001b[0m     \u001b[1;32mreturn\u001b[0m \u001b[0mexception_type\u001b[0m \u001b[1;32mis\u001b[0m \u001b[1;32mNone\u001b[0m\u001b[1;33m\u001b[0m\u001b[1;33m\u001b[0m\u001b[0m\n",
      "\u001b[1;32mC:\\Anaconda3\\envs\\tensorflowGPU\\lib\\site-packages\\tensorflow\\python\\training\\monitored_session.py\u001b[0m in \u001b[0;36m_close_internal\u001b[1;34m(self, exception_type)\u001b[0m\n\u001b[0;32m    814\u001b[0m       \u001b[1;32mif\u001b[0m \u001b[1;32mnot\u001b[0m \u001b[0mexception_type\u001b[0m\u001b[1;33m:\u001b[0m\u001b[1;33m\u001b[0m\u001b[1;33m\u001b[0m\u001b[0m\n\u001b[0;32m    815\u001b[0m         \u001b[1;32mfor\u001b[0m \u001b[0mh\u001b[0m \u001b[1;32min\u001b[0m \u001b[0mself\u001b[0m\u001b[1;33m.\u001b[0m\u001b[0m_hooks\u001b[0m\u001b[1;33m:\u001b[0m\u001b[1;33m\u001b[0m\u001b[1;33m\u001b[0m\u001b[0m\n\u001b[1;32m--> 816\u001b[1;33m           \u001b[0mh\u001b[0m\u001b[1;33m.\u001b[0m\u001b[0mend\u001b[0m\u001b[1;33m(\u001b[0m\u001b[0mself\u001b[0m\u001b[1;33m.\u001b[0m\u001b[0m_coordinated_creator\u001b[0m\u001b[1;33m.\u001b[0m\u001b[0mtf_sess\u001b[0m\u001b[1;33m)\u001b[0m\u001b[1;33m\u001b[0m\u001b[1;33m\u001b[0m\u001b[0m\n\u001b[0m\u001b[0;32m    817\u001b[0m     \u001b[1;32mfinally\u001b[0m\u001b[1;33m:\u001b[0m\u001b[1;33m\u001b[0m\u001b[1;33m\u001b[0m\u001b[0m\n\u001b[0;32m    818\u001b[0m       \u001b[1;32mtry\u001b[0m\u001b[1;33m:\u001b[0m\u001b[1;33m\u001b[0m\u001b[1;33m\u001b[0m\u001b[0m\n",
      "\u001b[1;32mC:\\Anaconda3\\envs\\tensorflowGPU\\lib\\site-packages\\tensorflow\\python\\training\\basic_session_run_hooks.py\u001b[0m in \u001b[0;36mend\u001b[1;34m(self, session)\u001b[0m\n\u001b[0;32m    940\u001b[0m       \u001b[1;32mtry\u001b[0m\u001b[1;33m:\u001b[0m\u001b[1;33m\u001b[0m\u001b[1;33m\u001b[0m\u001b[0m\n\u001b[0;32m    941\u001b[0m         self._final_ops_values = session.run(\n\u001b[1;32m--> 942\u001b[1;33m             self._final_ops, feed_dict=self._final_ops_feed_dict)\n\u001b[0m\u001b[0;32m    943\u001b[0m       \u001b[1;32mexcept\u001b[0m \u001b[1;33m(\u001b[0m\u001b[0merrors\u001b[0m\u001b[1;33m.\u001b[0m\u001b[0mOutOfRangeError\u001b[0m\u001b[1;33m,\u001b[0m \u001b[0mStopIteration\u001b[0m\u001b[1;33m)\u001b[0m \u001b[1;32mas\u001b[0m \u001b[0me\u001b[0m\u001b[1;33m:\u001b[0m\u001b[1;33m\u001b[0m\u001b[1;33m\u001b[0m\u001b[0m\n\u001b[0;32m    944\u001b[0m         logging.warning(\n",
      "\u001b[1;32mC:\\Anaconda3\\envs\\tensorflowGPU\\lib\\site-packages\\tensorflow\\python\\client\\session.py\u001b[0m in \u001b[0;36mrun\u001b[1;34m(self, fetches, feed_dict, options, run_metadata)\u001b[0m\n\u001b[0;32m    927\u001b[0m     \u001b[1;32mtry\u001b[0m\u001b[1;33m:\u001b[0m\u001b[1;33m\u001b[0m\u001b[1;33m\u001b[0m\u001b[0m\n\u001b[0;32m    928\u001b[0m       result = self._run(None, fetches, feed_dict, options_ptr,\n\u001b[1;32m--> 929\u001b[1;33m                          run_metadata_ptr)\n\u001b[0m\u001b[0;32m    930\u001b[0m       \u001b[1;32mif\u001b[0m \u001b[0mrun_metadata\u001b[0m\u001b[1;33m:\u001b[0m\u001b[1;33m\u001b[0m\u001b[1;33m\u001b[0m\u001b[0m\n\u001b[0;32m    931\u001b[0m         \u001b[0mproto_data\u001b[0m \u001b[1;33m=\u001b[0m \u001b[0mtf_session\u001b[0m\u001b[1;33m.\u001b[0m\u001b[0mTF_GetBuffer\u001b[0m\u001b[1;33m(\u001b[0m\u001b[0mrun_metadata_ptr\u001b[0m\u001b[1;33m)\u001b[0m\u001b[1;33m\u001b[0m\u001b[1;33m\u001b[0m\u001b[0m\n",
      "\u001b[1;32mC:\\Anaconda3\\envs\\tensorflowGPU\\lib\\site-packages\\tensorflow\\python\\client\\session.py\u001b[0m in \u001b[0;36m_run\u001b[1;34m(self, handle, fetches, feed_dict, options, run_metadata)\u001b[0m\n\u001b[0;32m   1150\u001b[0m     \u001b[1;32mif\u001b[0m \u001b[0mfinal_fetches\u001b[0m \u001b[1;32mor\u001b[0m \u001b[0mfinal_targets\u001b[0m \u001b[1;32mor\u001b[0m \u001b[1;33m(\u001b[0m\u001b[0mhandle\u001b[0m \u001b[1;32mand\u001b[0m \u001b[0mfeed_dict_tensor\u001b[0m\u001b[1;33m)\u001b[0m\u001b[1;33m:\u001b[0m\u001b[1;33m\u001b[0m\u001b[1;33m\u001b[0m\u001b[0m\n\u001b[0;32m   1151\u001b[0m       results = self._do_run(handle, final_targets, final_fetches,\n\u001b[1;32m-> 1152\u001b[1;33m                              feed_dict_tensor, options, run_metadata)\n\u001b[0m\u001b[0;32m   1153\u001b[0m     \u001b[1;32melse\u001b[0m\u001b[1;33m:\u001b[0m\u001b[1;33m\u001b[0m\u001b[1;33m\u001b[0m\u001b[0m\n\u001b[0;32m   1154\u001b[0m       \u001b[0mresults\u001b[0m \u001b[1;33m=\u001b[0m \u001b[1;33m[\u001b[0m\u001b[1;33m]\u001b[0m\u001b[1;33m\u001b[0m\u001b[1;33m\u001b[0m\u001b[0m\n",
      "\u001b[1;32mC:\\Anaconda3\\envs\\tensorflowGPU\\lib\\site-packages\\tensorflow\\python\\client\\session.py\u001b[0m in \u001b[0;36m_do_run\u001b[1;34m(self, handle, target_list, fetch_list, feed_dict, options, run_metadata)\u001b[0m\n\u001b[0;32m   1326\u001b[0m     \u001b[1;32mif\u001b[0m \u001b[0mhandle\u001b[0m \u001b[1;32mis\u001b[0m \u001b[1;32mNone\u001b[0m\u001b[1;33m:\u001b[0m\u001b[1;33m\u001b[0m\u001b[1;33m\u001b[0m\u001b[0m\n\u001b[0;32m   1327\u001b[0m       return self._do_call(_run_fn, feeds, fetches, targets, options,\n\u001b[1;32m-> 1328\u001b[1;33m                            run_metadata)\n\u001b[0m\u001b[0;32m   1329\u001b[0m     \u001b[1;32melse\u001b[0m\u001b[1;33m:\u001b[0m\u001b[1;33m\u001b[0m\u001b[1;33m\u001b[0m\u001b[0m\n\u001b[0;32m   1330\u001b[0m       \u001b[1;32mreturn\u001b[0m \u001b[0mself\u001b[0m\u001b[1;33m.\u001b[0m\u001b[0m_do_call\u001b[0m\u001b[1;33m(\u001b[0m\u001b[0m_prun_fn\u001b[0m\u001b[1;33m,\u001b[0m \u001b[0mhandle\u001b[0m\u001b[1;33m,\u001b[0m \u001b[0mfeeds\u001b[0m\u001b[1;33m,\u001b[0m \u001b[0mfetches\u001b[0m\u001b[1;33m)\u001b[0m\u001b[1;33m\u001b[0m\u001b[1;33m\u001b[0m\u001b[0m\n",
      "\u001b[1;32mC:\\Anaconda3\\envs\\tensorflowGPU\\lib\\site-packages\\tensorflow\\python\\client\\session.py\u001b[0m in \u001b[0;36m_do_call\u001b[1;34m(self, fn, *args)\u001b[0m\n\u001b[0;32m   1346\u001b[0m           \u001b[1;32mpass\u001b[0m\u001b[1;33m\u001b[0m\u001b[1;33m\u001b[0m\u001b[0m\n\u001b[0;32m   1347\u001b[0m       \u001b[0mmessage\u001b[0m \u001b[1;33m=\u001b[0m \u001b[0merror_interpolation\u001b[0m\u001b[1;33m.\u001b[0m\u001b[0minterpolate\u001b[0m\u001b[1;33m(\u001b[0m\u001b[0mmessage\u001b[0m\u001b[1;33m,\u001b[0m \u001b[0mself\u001b[0m\u001b[1;33m.\u001b[0m\u001b[0m_graph\u001b[0m\u001b[1;33m)\u001b[0m\u001b[1;33m\u001b[0m\u001b[1;33m\u001b[0m\u001b[0m\n\u001b[1;32m-> 1348\u001b[1;33m       \u001b[1;32mraise\u001b[0m \u001b[0mtype\u001b[0m\u001b[1;33m(\u001b[0m\u001b[0me\u001b[0m\u001b[1;33m)\u001b[0m\u001b[1;33m(\u001b[0m\u001b[0mnode_def\u001b[0m\u001b[1;33m,\u001b[0m \u001b[0mop\u001b[0m\u001b[1;33m,\u001b[0m \u001b[0mmessage\u001b[0m\u001b[1;33m)\u001b[0m\u001b[1;33m\u001b[0m\u001b[1;33m\u001b[0m\u001b[0m\n\u001b[0m\u001b[0;32m   1349\u001b[0m \u001b[1;33m\u001b[0m\u001b[0m\n\u001b[0;32m   1350\u001b[0m   \u001b[1;32mdef\u001b[0m \u001b[0m_extend_graph\u001b[0m\u001b[1;33m(\u001b[0m\u001b[0mself\u001b[0m\u001b[1;33m)\u001b[0m\u001b[1;33m:\u001b[0m\u001b[1;33m\u001b[0m\u001b[1;33m\u001b[0m\u001b[0m\n",
      "\u001b[1;31mInvalidArgumentError\u001b[0m: TypeError: can't pickle dict_values objects\nTraceback (most recent call last):\n\n  File \"C:\\Anaconda3\\envs\\tensorflowGPU\\lib\\site-packages\\tensorflow\\python\\ops\\script_ops.py\", line 206, in __call__\n    ret = func(*args)\n\n  File \"C:\\Anaconda3\\envs\\tensorflowGPU\\lib\\site-packages\\object_detection-0.1-py3.6.egg\\object_detection\\metrics\\coco_evaluation.py\", line 358, in first_value_func\n    self._metrics = self.evaluate()\n\n  File \"C:\\Anaconda3\\envs\\tensorflowGPU\\lib\\site-packages\\object_detection-0.1-py3.6.egg\\object_detection\\metrics\\coco_evaluation.py\", line 207, in evaluate\n    self._detection_boxes_list)\n\n  File \"C:\\Anaconda3\\envs\\tensorflowGPU\\lib\\site-packages\\object_detection-0.1-py3.6.egg\\object_detection\\metrics\\coco_tools.py\", line 118, in LoadAnnotations\n    results.dataset['categories'] = copy.deepcopy(self.dataset['categories'])\n\n  File \"C:\\Anaconda3\\envs\\tensorflowGPU\\lib\\copy.py\", line 169, in deepcopy\n    rv = reductor(4)\n\nTypeError: can't pickle dict_values objects\n\n\n\t [[node PyFunc_3 (defined at C:\\Anaconda3\\envs\\tensorflowGPU\\lib\\site-packages\\object_detection-0.1-py3.6.egg\\object_detection\\metrics\\coco_evaluation.py:368)  = PyFunc[Tin=[], Tout=[DT_FLOAT], token=\"pyfunc_39\", _device=\"/job:localhost/replica:0/task:0/device:CPU:0\"]()]]\n\t [[{{node cond_1/Detections_Left_Groundtruth_Right/1/_4273}} = _HostRecv[client_terminated=false, recv_device=\"/job:localhost/replica:0/task:0/device:GPU:0\", send_device=\"/job:localhost/replica:0/task:0/device:CPU:0\", send_device_incarnation=1, tensor_name=\"edge_226_cond_1/Detections_Left_Groundtruth_Right/1\", tensor_type=DT_STRING, _device=\"/job:localhost/replica:0/task:0/device:GPU:0\"]()]]\n\nCaused by op 'PyFunc_3', defined at:\n  File \"C:\\Anaconda3\\envs\\tensorflowGPU\\lib\\runpy.py\", line 193, in _run_module_as_main\n    \"__main__\", mod_spec)\n  File \"C:\\Anaconda3\\envs\\tensorflowGPU\\lib\\runpy.py\", line 85, in _run_code\n    exec(code, run_globals)\n  File \"C:\\Anaconda3\\envs\\tensorflowGPU\\lib\\site-packages\\ipykernel_launcher.py\", line 16, in <module>\n    app.launch_new_instance()\n  File \"C:\\Anaconda3\\envs\\tensorflowGPU\\lib\\site-packages\\traitlets\\config\\application.py\", line 658, in launch_instance\n    app.start()\n  File \"C:\\Anaconda3\\envs\\tensorflowGPU\\lib\\site-packages\\ipykernel\\kernelapp.py\", line 505, in start\n    self.io_loop.start()\n  File \"C:\\Anaconda3\\envs\\tensorflowGPU\\lib\\site-packages\\tornado\\platform\\asyncio.py\", line 132, in start\n    self.asyncio_loop.run_forever()\n  File \"C:\\Anaconda3\\envs\\tensorflowGPU\\lib\\asyncio\\base_events.py\", line 427, in run_forever\n    self._run_once()\n  File \"C:\\Anaconda3\\envs\\tensorflowGPU\\lib\\asyncio\\base_events.py\", line 1440, in _run_once\n    handle._run()\n  File \"C:\\Anaconda3\\envs\\tensorflowGPU\\lib\\asyncio\\events.py\", line 145, in _run\n    self._callback(*self._args)\n  File \"C:\\Anaconda3\\envs\\tensorflowGPU\\lib\\site-packages\\tornado\\ioloop.py\", line 758, in _run_callback\n    ret = callback()\n  File \"C:\\Anaconda3\\envs\\tensorflowGPU\\lib\\site-packages\\tornado\\stack_context.py\", line 300, in null_wrapper\n    return fn(*args, **kwargs)\n  File \"C:\\Anaconda3\\envs\\tensorflowGPU\\lib\\site-packages\\tornado\\gen.py\", line 1233, in inner\n    self.run()\n  File \"C:\\Anaconda3\\envs\\tensorflowGPU\\lib\\site-packages\\tornado\\gen.py\", line 1147, in run\n    yielded = self.gen.send(value)\n  File \"C:\\Anaconda3\\envs\\tensorflowGPU\\lib\\site-packages\\ipykernel\\kernelbase.py\", line 357, in process_one\n    yield gen.maybe_future(dispatch(*args))\n  File \"C:\\Anaconda3\\envs\\tensorflowGPU\\lib\\site-packages\\tornado\\gen.py\", line 326, in wrapper\n    yielded = next(result)\n  File \"C:\\Anaconda3\\envs\\tensorflowGPU\\lib\\site-packages\\ipykernel\\kernelbase.py\", line 267, in dispatch_shell\n    yield gen.maybe_future(handler(stream, idents, msg))\n  File \"C:\\Anaconda3\\envs\\tensorflowGPU\\lib\\site-packages\\tornado\\gen.py\", line 326, in wrapper\n    yielded = next(result)\n  File \"C:\\Anaconda3\\envs\\tensorflowGPU\\lib\\site-packages\\ipykernel\\kernelbase.py\", line 534, in execute_request\n    user_expressions, allow_stdin,\n  File \"C:\\Anaconda3\\envs\\tensorflowGPU\\lib\\site-packages\\tornado\\gen.py\", line 326, in wrapper\n    yielded = next(result)\n  File \"C:\\Anaconda3\\envs\\tensorflowGPU\\lib\\site-packages\\ipykernel\\ipkernel.py\", line 294, in do_execute\n    res = shell.run_cell(code, store_history=store_history, silent=silent)\n  File \"C:\\Anaconda3\\envs\\tensorflowGPU\\lib\\site-packages\\ipykernel\\zmqshell.py\", line 536, in run_cell\n    return super(ZMQInteractiveShell, self).run_cell(*args, **kwargs)\n  File \"C:\\Anaconda3\\envs\\tensorflowGPU\\lib\\site-packages\\IPython\\core\\interactiveshell.py\", line 2819, in run_cell\n    raw_cell, store_history, silent, shell_futures)\n  File \"C:\\Anaconda3\\envs\\tensorflowGPU\\lib\\site-packages\\IPython\\core\\interactiveshell.py\", line 2845, in _run_cell\n    return runner(coro)\n  File \"C:\\Anaconda3\\envs\\tensorflowGPU\\lib\\site-packages\\IPython\\core\\async_helpers.py\", line 67, in _pseudo_sync_runner\n    coro.send(None)\n  File \"C:\\Anaconda3\\envs\\tensorflowGPU\\lib\\site-packages\\IPython\\core\\interactiveshell.py\", line 3020, in run_cell_async\n    interactivity=interactivity, compiler=compiler, result=result)\n  File \"C:\\Anaconda3\\envs\\tensorflowGPU\\lib\\site-packages\\IPython\\core\\interactiveshell.py\", line 3185, in run_ast_nodes\n    if (yield from self.run_code(code, result)):\n  File \"C:\\Anaconda3\\envs\\tensorflowGPU\\lib\\site-packages\\IPython\\core\\interactiveshell.py\", line 3267, in run_code\n    exec(code_obj, self.user_global_ns, self.user_ns)\n  File \"<ipython-input-40-abffdf2a80a5>\", line 60, in <module>\n    tf.estimator.train_and_evaluate(estimator, train_spec, eval_specs[0])\n  File \"C:\\Anaconda3\\envs\\tensorflowGPU\\lib\\site-packages\\tensorflow\\python\\estimator\\training.py\", line 471, in train_and_evaluate\n    return executor.run()\n  File \"C:\\Anaconda3\\envs\\tensorflowGPU\\lib\\site-packages\\tensorflow\\python\\estimator\\training.py\", line 610, in run\n    return self.run_local()\n  File \"C:\\Anaconda3\\envs\\tensorflowGPU\\lib\\site-packages\\tensorflow\\python\\estimator\\training.py\", line 711, in run_local\n    saving_listeners=saving_listeners)\n  File \"C:\\Anaconda3\\envs\\tensorflowGPU\\lib\\site-packages\\tensorflow\\python\\estimator\\estimator.py\", line 354, in train\n    loss = self._train_model(input_fn, hooks, saving_listeners)\n  File \"C:\\Anaconda3\\envs\\tensorflowGPU\\lib\\site-packages\\tensorflow\\python\\estimator\\estimator.py\", line 1207, in _train_model\n    return self._train_model_default(input_fn, hooks, saving_listeners)\n  File \"C:\\Anaconda3\\envs\\tensorflowGPU\\lib\\site-packages\\tensorflow\\python\\estimator\\estimator.py\", line 1241, in _train_model_default\n    saving_listeners)\n  File \"C:\\Anaconda3\\envs\\tensorflowGPU\\lib\\site-packages\\tensorflow\\python\\estimator\\estimator.py\", line 1471, in _train_with_estimator_spec\n    _, loss = mon_sess.run([estimator_spec.train_op, estimator_spec.loss])\n  File \"C:\\Anaconda3\\envs\\tensorflowGPU\\lib\\site-packages\\tensorflow\\python\\training\\monitored_session.py\", line 671, in run\n    run_metadata=run_metadata)\n  File \"C:\\Anaconda3\\envs\\tensorflowGPU\\lib\\site-packages\\tensorflow\\python\\training\\monitored_session.py\", line 1156, in run\n    run_metadata=run_metadata)\n  File \"C:\\Anaconda3\\envs\\tensorflowGPU\\lib\\site-packages\\tensorflow\\python\\training\\monitored_session.py\", line 1240, in run\n    return self._sess.run(*args, **kwargs)\n  File \"C:\\Anaconda3\\envs\\tensorflowGPU\\lib\\site-packages\\tensorflow\\python\\training\\monitored_session.py\", line 1320, in run\n    run_metadata=run_metadata))\n  File \"C:\\Anaconda3\\envs\\tensorflowGPU\\lib\\site-packages\\tensorflow\\python\\training\\basic_session_run_hooks.py\", line 582, in after_run\n    if self._save(run_context.session, global_step):\n  File \"C:\\Anaconda3\\envs\\tensorflowGPU\\lib\\site-packages\\tensorflow\\python\\training\\basic_session_run_hooks.py\", line 607, in _save\n    if l.after_save(session, step):\n  File \"C:\\Anaconda3\\envs\\tensorflowGPU\\lib\\site-packages\\tensorflow\\python\\estimator\\training.py\", line 517, in after_save\n    self._evaluate(global_step_value)  # updates self.eval_result\n  File \"C:\\Anaconda3\\envs\\tensorflowGPU\\lib\\site-packages\\tensorflow\\python\\estimator\\training.py\", line 537, in _evaluate\n    self._evaluator.evaluate_and_export())\n  File \"C:\\Anaconda3\\envs\\tensorflowGPU\\lib\\site-packages\\tensorflow\\python\\estimator\\training.py\", line 912, in evaluate_and_export\n    hooks=self._eval_spec.hooks)\n  File \"C:\\Anaconda3\\envs\\tensorflowGPU\\lib\\site-packages\\tensorflow\\python\\estimator\\estimator.py\", line 478, in evaluate\n    return _evaluate()\n  File \"C:\\Anaconda3\\envs\\tensorflowGPU\\lib\\site-packages\\tensorflow\\python\\estimator\\estimator.py\", line 460, in _evaluate\n    self._evaluate_build_graph(input_fn, hooks, checkpoint_path))\n  File \"C:\\Anaconda3\\envs\\tensorflowGPU\\lib\\site-packages\\tensorflow\\python\\estimator\\estimator.py\", line 1484, in _evaluate_build_graph\n    self._call_model_fn_eval(input_fn, self.config))\n  File \"C:\\Anaconda3\\envs\\tensorflowGPU\\lib\\site-packages\\tensorflow\\python\\estimator\\estimator.py\", line 1520, in _call_model_fn_eval\n    features, labels, model_fn_lib.ModeKeys.EVAL, config)\n  File \"C:\\Anaconda3\\envs\\tensorflowGPU\\lib\\site-packages\\tensorflow\\python\\estimator\\estimator.py\", line 1195, in _call_model_fn\n    model_fn_results = self._model_fn(features=features, **kwargs)\n  File \"C:\\Anaconda3\\envs\\tensorflowGPU\\lib\\site-packages\\object_detection-0.1-py3.6.egg\\object_detection\\model_lib.py\", line 418, in model_fn\n    eval_config, list(category_index.values()), eval_dict)\n  File \"C:\\Anaconda3\\envs\\tensorflowGPU\\lib\\site-packages\\object_detection-0.1-py3.6.egg\\object_detection\\eval_util.py\", line 848, in get_eval_metric_ops_for_evaluators\n    eval_dict))\n  File \"C:\\Anaconda3\\envs\\tensorflowGPU\\lib\\site-packages\\object_detection-0.1-py3.6.egg\\object_detection\\metrics\\coco_evaluation.py\", line 368, in get_estimator_eval_metric_ops\n    first_value_op = tf.py_func(first_value_func, [], tf.float32)\n  File \"C:\\Anaconda3\\envs\\tensorflowGPU\\lib\\site-packages\\tensorflow\\python\\ops\\script_ops.py\", line 457, in py_func\n    func=func, inp=inp, Tout=Tout, stateful=stateful, eager=False, name=name)\n  File \"C:\\Anaconda3\\envs\\tensorflowGPU\\lib\\site-packages\\tensorflow\\python\\ops\\script_ops.py\", line 281, in _internal_py_func\n    input=inp, token=token, Tout=Tout, name=name)\n  File \"C:\\Anaconda3\\envs\\tensorflowGPU\\lib\\site-packages\\tensorflow\\python\\ops\\gen_script_ops.py\", line 132, in py_func\n    \"PyFunc\", input=input, token=token, Tout=Tout, name=name)\n  File \"C:\\Anaconda3\\envs\\tensorflowGPU\\lib\\site-packages\\tensorflow\\python\\framework\\op_def_library.py\", line 787, in _apply_op_helper\n    op_def=op_def)\n  File \"C:\\Anaconda3\\envs\\tensorflowGPU\\lib\\site-packages\\tensorflow\\python\\util\\deprecation.py\", line 488, in new_func\n    return func(*args, **kwargs)\n  File \"C:\\Anaconda3\\envs\\tensorflowGPU\\lib\\site-packages\\tensorflow\\python\\framework\\ops.py\", line 3274, in create_op\n    op_def=op_def)\n  File \"C:\\Anaconda3\\envs\\tensorflowGPU\\lib\\site-packages\\tensorflow\\python\\framework\\ops.py\", line 1770, in __init__\n    self._traceback = tf_stack.extract_stack()\n\nInvalidArgumentError (see above for traceback): TypeError: can't pickle dict_values objects\nTraceback (most recent call last):\n\n  File \"C:\\Anaconda3\\envs\\tensorflowGPU\\lib\\site-packages\\tensorflow\\python\\ops\\script_ops.py\", line 206, in __call__\n    ret = func(*args)\n\n  File \"C:\\Anaconda3\\envs\\tensorflowGPU\\lib\\site-packages\\object_detection-0.1-py3.6.egg\\object_detection\\metrics\\coco_evaluation.py\", line 358, in first_value_func\n    self._metrics = self.evaluate()\n\n  File \"C:\\Anaconda3\\envs\\tensorflowGPU\\lib\\site-packages\\object_detection-0.1-py3.6.egg\\object_detection\\metrics\\coco_evaluation.py\", line 207, in evaluate\n    self._detection_boxes_list)\n\n  File \"C:\\Anaconda3\\envs\\tensorflowGPU\\lib\\site-packages\\object_detection-0.1-py3.6.egg\\object_detection\\metrics\\coco_tools.py\", line 118, in LoadAnnotations\n    results.dataset['categories'] = copy.deepcopy(self.dataset['categories'])\n\n  File \"C:\\Anaconda3\\envs\\tensorflowGPU\\lib\\copy.py\", line 169, in deepcopy\n    rv = reductor(4)\n\nTypeError: can't pickle dict_values objects\n\n\n\t [[node PyFunc_3 (defined at C:\\Anaconda3\\envs\\tensorflowGPU\\lib\\site-packages\\object_detection-0.1-py3.6.egg\\object_detection\\metrics\\coco_evaluation.py:368)  = PyFunc[Tin=[], Tout=[DT_FLOAT], token=\"pyfunc_39\", _device=\"/job:localhost/replica:0/task:0/device:CPU:0\"]()]]\n\t [[{{node cond_1/Detections_Left_Groundtruth_Right/1/_4273}} = _HostRecv[client_terminated=false, recv_device=\"/job:localhost/replica:0/task:0/device:GPU:0\", send_device=\"/job:localhost/replica:0/task:0/device:CPU:0\", send_device_incarnation=1, tensor_name=\"edge_226_cond_1/Detections_Left_Groundtruth_Right/1\", tensor_type=DT_STRING, _device=\"/job:localhost/replica:0/task:0/device:GPU:0\"]()]]\n"
     ]
    }
   ],
   "source": [
    "if execute_train & execute_eval:\n",
    "\n",
    "    #Define Variables\n",
    "    hparams_overrides = None\n",
    "    sample_1_of_n_eval_examples = 1\n",
    "    sample_1_of_n_eval_on_train_examples = 5\n",
    "    checkpoint_dir = None\n",
    "    run_once = False\n",
    "    eval_training_data = False\n",
    "    train_steps = num_train_steps\n",
    "    \n",
    "    #Run Estimator Config\n",
    "    config = tf.estimator.RunConfig(model_dir=training_dir)\n",
    "\n",
    "    #Define Training and Evaluation Dict\n",
    "    train_and_eval_dict = model_lib.create_estimator_and_inputs(\n",
    "        run_config=config,\n",
    "        hparams=model_hparams.create_hparams(hparams_overrides),\n",
    "        pipeline_config_path=pipeline_config_path,\n",
    "        train_steps=train_steps,\n",
    "        sample_1_of_n_eval_examples=sample_1_of_n_eval_examples,\n",
    "        sample_1_of_n_eval_on_train_examples=(\n",
    "            sample_1_of_n_eval_on_train_examples))\n",
    "    estimator = train_and_eval_dict['estimator']\n",
    "    train_input_fn = train_and_eval_dict['train_input_fn']\n",
    "    eval_input_fns = train_and_eval_dict['eval_input_fns']\n",
    "    eval_on_train_input_fn = train_and_eval_dict['eval_on_train_input_fn']\n",
    "    predict_input_fn = train_and_eval_dict['predict_input_fn']\n",
    "    train_steps = train_and_eval_dict['train_steps']\n",
    "\n",
    "    if checkpoint_dir:\n",
    "        \n",
    "        if eval_training_data:\n",
    "            name = 'training_data'\n",
    "            input_fn = eval_on_train_input_fn\n",
    "        else:\n",
    "            name = 'validation_data'\n",
    "            # The first eval input will be evaluated.\n",
    "            input_fn = eval_input_fns[0]\n",
    "            \n",
    "        if run_once:\n",
    "            estimator.evaluate(input_fn,\n",
    "                               num_eval_steps=None,\n",
    "                               checkpoint_path=tf.train.latest_checkpoint(\n",
    "                                   checkpoint_dir))\n",
    "            \n",
    "        else:\n",
    "            model_lib.continuous_eval(estimator, checkpoint_dir, input_fn,\n",
    "                                      train_steps, name)\n",
    "    else:\n",
    "        train_spec, eval_specs = model_lib.create_train_and_eval_specs(\n",
    "            train_input_fn,\n",
    "            eval_input_fns,\n",
    "            eval_on_train_input_fn,\n",
    "            predict_input_fn,\n",
    "            train_steps,\n",
    "            eval_on_train_data=False)\n",
    "\n",
    "        # Currently only a single Eval Spec is allowed.\n",
    "        tf.estimator.train_and_evaluate(estimator, train_spec, eval_specs[0])\n",
    "\n",
    "    \n",
    "    \n",
    "    \n",
    "    \n",
    "    \n",
    "    \n",
    "    \n",
    "    \n",
    "    \n",
    "    \n",
    "    \n",
    "    \n",
    "    \n",
    "    \n",
    "    \n",
    "    \n",
    "#Calling model_main.py\n",
    "#args = [\"python\", \"model_main.py\", \"--pipeline_config_path=\", pipeline_config_path, \"--model_dir=\", \n",
    "#        training_dir, \"--num_train_steps\", num_train_steps, \"--num_eval_steps\", num_test_steps]\n",
    "#args = [\"python model_main.py --pipeline_config_path=\" + pipeline_config_path + \" --model_dir=\" + \n",
    "#        training_dir + \" --num_train_steps=\"+ num_train_steps+ \" --num_eval_steps=\"+ num_test_steps]\n",
    "#subprocess.call(args, shell=True)"
   ]
  },
  {
   "cell_type": "code",
   "execution_count": null,
   "metadata": {},
   "outputs": [],
   "source": [
    "#Open Tensorboard for Review"
   ]
  },
  {
   "cell_type": "code",
   "execution_count": null,
   "metadata": {},
   "outputs": [],
   "source": [
    "#Main Function\n",
    "def main(_):\n",
    "\n",
    "    #Generate TFRecord\n",
    "    TFRecord = dict_to_tf_example()\n"
   ]
  },
  {
   "cell_type": "code",
   "execution_count": null,
   "metadata": {},
   "outputs": [],
   "source": []
  },
  {
   "cell_type": "code",
   "execution_count": null,
   "metadata": {},
   "outputs": [],
   "source": []
  },
  {
   "cell_type": "markdown",
   "metadata": {},
   "source": []
  }
 ],
 "metadata": {
  "kernelspec": {
   "display_name": "Python 3",
   "language": "python",
   "name": "python3"
  },
  "language_info": {
   "codemirror_mode": {
    "name": "ipython",
    "version": 3
   },
   "file_extension": ".py",
   "mimetype": "text/x-python",
   "name": "python",
   "nbconvert_exporter": "python",
   "pygments_lexer": "ipython3",
   "version": "3.6.7"
  },
  "varInspector": {
   "cols": {
    "lenName": 16,
    "lenType": 16,
    "lenVar": 40
   },
   "kernels_config": {
    "python": {
     "delete_cmd_postfix": "",
     "delete_cmd_prefix": "del ",
     "library": "var_list.py",
     "varRefreshCmd": "print(var_dic_list())"
    },
    "r": {
     "delete_cmd_postfix": ") ",
     "delete_cmd_prefix": "rm(",
     "library": "var_list.r",
     "varRefreshCmd": "cat(var_dic_list()) "
    }
   },
   "types_to_exclude": [
    "module",
    "function",
    "builtin_function_or_method",
    "instance",
    "_Feature"
   ],
   "window_display": false
  }
 },
 "nbformat": 4,
 "nbformat_minor": 2
}
